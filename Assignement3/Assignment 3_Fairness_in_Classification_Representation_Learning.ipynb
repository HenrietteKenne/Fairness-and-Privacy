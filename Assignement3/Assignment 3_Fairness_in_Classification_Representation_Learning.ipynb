{
 "cells": [
  {
   "cell_type": "code",
   "execution_count": 140,
   "metadata": {
    "collapsed": false
   },
   "outputs": [],
   "source": [
    "import numpy as np\n",
    "import pandas as pd\n",
    "from   mmd                 import MMD_torch\n",
    "#import os\n",
    "from sklearn import preprocessing\n",
    "from keras.layers import Dense, Dropout\n",
    "from keras.models import Sequential\n",
    "from keras.regularizers import l2\n",
    "from sklearn.linear_model import LogisticRegression\n",
    "from sklearn.metrics import accuracy_score \n",
    "import torch\n",
    "import torchvision.models  as models\n",
    "import torch.nn            as nn\n",
    "import torch.optim         as optim\n",
    "import matplotlib.pyplot   as plt\n",
    "from   tqdm                import tqdm\n",
    "from   torch.utils.data    import DataLoader, TensorDataset\n",
    "\n",
    "from sklearn.mixture import GaussianMixture\n",
    "import matplotlib\n",
    "import matplotlib.pyplot as plt\n",
    "%matplotlib inline\n",
    "import warnings\n",
    "warnings.filterwarnings('ignore')"
   ]
  },
  {
   "cell_type": "markdown",
   "metadata": {},
   "source": [
    "# 1- Data visualisation"
   ]
  },
  {
   "cell_type": "code",
   "execution_count": 141,
   "metadata": {
    "collapsed": true
   },
   "outputs": [],
   "source": [
    "# Load the Data: train and test\n",
    "adult_train = np.load('adult_train.npz')\n",
    "adult_test = np.load('adult_test.npz')"
   ]
  },
  {
   "cell_type": "code",
   "execution_count": 160,
   "metadata": {
    "collapsed": false
   },
   "outputs": [
    {
     "data": {
      "text/html": [
       "<div>\n",
       "<table border=\"1\" class=\"dataframe\">\n",
       "  <thead>\n",
       "    <tr style=\"text-align: right;\">\n",
       "      <th></th>\n",
       "      <th>age_u20</th>\n",
       "      <th>age_u30</th>\n",
       "      <th>age_u40</th>\n",
       "      <th>age_u50</th>\n",
       "      <th>age_u60</th>\n",
       "      <th>age_u70</th>\n",
       "      <th>age_u80</th>\n",
       "      <th>workclass_Private</th>\n",
       "      <th>workclass_Self-emp-not-inc</th>\n",
       "      <th>workclass_Self-emp-inc</th>\n",
       "      <th>...</th>\n",
       "      <th>country_Nicaragua</th>\n",
       "      <th>country_Scotland</th>\n",
       "      <th>country_Thailand</th>\n",
       "      <th>country_Yugoslavia</th>\n",
       "      <th>country_El-Salvador</th>\n",
       "      <th>country_Trinadad&amp;Tobago</th>\n",
       "      <th>country_Peru</th>\n",
       "      <th>country_Hong</th>\n",
       "      <th>country_Holand-Netherlands</th>\n",
       "      <th>country_?</th>\n",
       "    </tr>\n",
       "  </thead>\n",
       "  <tbody>\n",
       "    <tr>\n",
       "      <th>0</th>\n",
       "      <td>1.0</td>\n",
       "      <td>0.0</td>\n",
       "      <td>0.0</td>\n",
       "      <td>0.0</td>\n",
       "      <td>0.0</td>\n",
       "      <td>0.0</td>\n",
       "      <td>0.0</td>\n",
       "      <td>1.0</td>\n",
       "      <td>0.0</td>\n",
       "      <td>0.0</td>\n",
       "      <td>...</td>\n",
       "      <td>0.0</td>\n",
       "      <td>0.0</td>\n",
       "      <td>0.0</td>\n",
       "      <td>0.0</td>\n",
       "      <td>0.0</td>\n",
       "      <td>0.0</td>\n",
       "      <td>0.0</td>\n",
       "      <td>0.0</td>\n",
       "      <td>0.0</td>\n",
       "      <td>0.0</td>\n",
       "    </tr>\n",
       "    <tr>\n",
       "      <th>1</th>\n",
       "      <td>0.0</td>\n",
       "      <td>1.0</td>\n",
       "      <td>0.0</td>\n",
       "      <td>0.0</td>\n",
       "      <td>0.0</td>\n",
       "      <td>0.0</td>\n",
       "      <td>0.0</td>\n",
       "      <td>1.0</td>\n",
       "      <td>0.0</td>\n",
       "      <td>0.0</td>\n",
       "      <td>...</td>\n",
       "      <td>0.0</td>\n",
       "      <td>0.0</td>\n",
       "      <td>0.0</td>\n",
       "      <td>0.0</td>\n",
       "      <td>0.0</td>\n",
       "      <td>0.0</td>\n",
       "      <td>0.0</td>\n",
       "      <td>0.0</td>\n",
       "      <td>0.0</td>\n",
       "      <td>0.0</td>\n",
       "    </tr>\n",
       "    <tr>\n",
       "      <th>2</th>\n",
       "      <td>0.0</td>\n",
       "      <td>0.0</td>\n",
       "      <td>0.0</td>\n",
       "      <td>0.0</td>\n",
       "      <td>1.0</td>\n",
       "      <td>0.0</td>\n",
       "      <td>0.0</td>\n",
       "      <td>0.0</td>\n",
       "      <td>0.0</td>\n",
       "      <td>0.0</td>\n",
       "      <td>...</td>\n",
       "      <td>0.0</td>\n",
       "      <td>0.0</td>\n",
       "      <td>0.0</td>\n",
       "      <td>0.0</td>\n",
       "      <td>0.0</td>\n",
       "      <td>0.0</td>\n",
       "      <td>0.0</td>\n",
       "      <td>0.0</td>\n",
       "      <td>0.0</td>\n",
       "      <td>0.0</td>\n",
       "    </tr>\n",
       "    <tr>\n",
       "      <th>3</th>\n",
       "      <td>0.0</td>\n",
       "      <td>0.0</td>\n",
       "      <td>0.0</td>\n",
       "      <td>1.0</td>\n",
       "      <td>0.0</td>\n",
       "      <td>0.0</td>\n",
       "      <td>0.0</td>\n",
       "      <td>0.0</td>\n",
       "      <td>0.0</td>\n",
       "      <td>0.0</td>\n",
       "      <td>...</td>\n",
       "      <td>0.0</td>\n",
       "      <td>0.0</td>\n",
       "      <td>0.0</td>\n",
       "      <td>0.0</td>\n",
       "      <td>0.0</td>\n",
       "      <td>0.0</td>\n",
       "      <td>0.0</td>\n",
       "      <td>0.0</td>\n",
       "      <td>0.0</td>\n",
       "      <td>0.0</td>\n",
       "    </tr>\n",
       "    <tr>\n",
       "      <th>4</th>\n",
       "      <td>0.0</td>\n",
       "      <td>0.0</td>\n",
       "      <td>0.0</td>\n",
       "      <td>0.0</td>\n",
       "      <td>0.0</td>\n",
       "      <td>1.0</td>\n",
       "      <td>0.0</td>\n",
       "      <td>1.0</td>\n",
       "      <td>0.0</td>\n",
       "      <td>0.0</td>\n",
       "      <td>...</td>\n",
       "      <td>0.0</td>\n",
       "      <td>0.0</td>\n",
       "      <td>0.0</td>\n",
       "      <td>0.0</td>\n",
       "      <td>0.0</td>\n",
       "      <td>0.0</td>\n",
       "      <td>0.0</td>\n",
       "      <td>0.0</td>\n",
       "      <td>0.0</td>\n",
       "      <td>0.0</td>\n",
       "    </tr>\n",
       "  </tbody>\n",
       "</table>\n",
       "<p>5 rows × 113 columns</p>\n",
       "</div>"
      ],
      "text/plain": [
       "   age_u20  age_u30  age_u40  age_u50  age_u60  age_u70  age_u80  \\\n",
       "0      1.0      0.0      0.0      0.0      0.0      0.0      0.0   \n",
       "1      0.0      1.0      0.0      0.0      0.0      0.0      0.0   \n",
       "2      0.0      0.0      0.0      0.0      1.0      0.0      0.0   \n",
       "3      0.0      0.0      0.0      1.0      0.0      0.0      0.0   \n",
       "4      0.0      0.0      0.0      0.0      0.0      1.0      0.0   \n",
       "\n",
       "   workclass_Private  workclass_Self-emp-not-inc  workclass_Self-emp-inc  \\\n",
       "0                1.0                         0.0                     0.0   \n",
       "1                1.0                         0.0                     0.0   \n",
       "2                0.0                         0.0                     0.0   \n",
       "3                0.0                         0.0                     0.0   \n",
       "4                1.0                         0.0                     0.0   \n",
       "\n",
       "     ...      country_Nicaragua  country_Scotland  country_Thailand  \\\n",
       "0    ...                    0.0               0.0               0.0   \n",
       "1    ...                    0.0               0.0               0.0   \n",
       "2    ...                    0.0               0.0               0.0   \n",
       "3    ...                    0.0               0.0               0.0   \n",
       "4    ...                    0.0               0.0               0.0   \n",
       "\n",
       "   country_Yugoslavia  country_El-Salvador  country_Trinadad&Tobago  \\\n",
       "0                 0.0                  0.0                      0.0   \n",
       "1                 0.0                  0.0                      0.0   \n",
       "2                 0.0                  0.0                      0.0   \n",
       "3                 0.0                  0.0                      0.0   \n",
       "4                 0.0                  0.0                      0.0   \n",
       "\n",
       "   country_Peru  country_Hong  country_Holand-Netherlands  country_?  \n",
       "0           0.0           0.0                         0.0        0.0  \n",
       "1           0.0           0.0                         0.0        0.0  \n",
       "2           0.0           0.0                         0.0        0.0  \n",
       "3           0.0           0.0                         0.0        0.0  \n",
       "4           0.0           0.0                         0.0        0.0  \n",
       "\n",
       "[5 rows x 113 columns]"
      ]
     },
     "execution_count": 160,
     "metadata": {},
     "output_type": "execute_result"
    }
   ],
   "source": [
    "#Read and associate rows and columns\n",
    "x = adult_train['x']\n",
    "df = pd.DataFrame(x)\n",
    "df.head()\n",
    "data = pd.read_csv('adult_headers.txt', header=None) # lire les donnees text\n",
    "data.columns = ['headers']\n",
    "lists = []\n",
    "for header in data['headers']:\n",
    "    lists.append(header)\n",
    "df.columns = lists[:len(lists)-1]# retirer la derniere ligne\n",
    "df.head()"
   ]
  },
  {
   "cell_type": "code",
   "execution_count": 161,
   "metadata": {
    "collapsed": false
   },
   "outputs": [
    {
     "data": {
      "text/html": [
       "<div>\n",
       "<table border=\"1\" class=\"dataframe\">\n",
       "  <thead>\n",
       "    <tr style=\"text-align: right;\">\n",
       "      <th></th>\n",
       "      <th>income</th>\n",
       "    </tr>\n",
       "  </thead>\n",
       "  <tbody>\n",
       "    <tr>\n",
       "      <th>0</th>\n",
       "      <td>0.0</td>\n",
       "    </tr>\n",
       "    <tr>\n",
       "      <th>1</th>\n",
       "      <td>0.0</td>\n",
       "    </tr>\n",
       "    <tr>\n",
       "      <th>2</th>\n",
       "      <td>1.0</td>\n",
       "    </tr>\n",
       "    <tr>\n",
       "      <th>3</th>\n",
       "      <td>1.0</td>\n",
       "    </tr>\n",
       "    <tr>\n",
       "      <th>4</th>\n",
       "      <td>0.0</td>\n",
       "    </tr>\n",
       "  </tbody>\n",
       "</table>\n",
       "</div>"
      ],
      "text/plain": [
       "   income\n",
       "0     0.0\n",
       "1     0.0\n",
       "2     1.0\n",
       "3     1.0\n",
       "4     0.0"
      ]
     },
     "execution_count": 161,
     "metadata": {},
     "output_type": "execute_result"
    }
   ],
   "source": [
    "y = adult_train['y']\n",
    "dy = pd.DataFrame(y)\n",
    "dy.columns = [lists[len(lists)-1]]# associer la derniere ligne a y\n",
    "dy.head()"
   ]
  },
  {
   "cell_type": "code",
   "execution_count": 162,
   "metadata": {
    "collapsed": false
   },
   "outputs": [
    {
     "data": {
      "text/html": [
       "<div>\n",
       "<table border=\"1\" class=\"dataframe\">\n",
       "  <thead>\n",
       "    <tr style=\"text-align: right;\">\n",
       "      <th></th>\n",
       "      <th>A</th>\n",
       "    </tr>\n",
       "  </thead>\n",
       "  <tbody>\n",
       "    <tr>\n",
       "      <th>0</th>\n",
       "      <td>0.0</td>\n",
       "    </tr>\n",
       "    <tr>\n",
       "      <th>1</th>\n",
       "      <td>0.0</td>\n",
       "    </tr>\n",
       "    <tr>\n",
       "      <th>2</th>\n",
       "      <td>1.0</td>\n",
       "    </tr>\n",
       "    <tr>\n",
       "      <th>3</th>\n",
       "      <td>1.0</td>\n",
       "    </tr>\n",
       "    <tr>\n",
       "      <th>4</th>\n",
       "      <td>0.0</td>\n",
       "    </tr>\n",
       "  </tbody>\n",
       "</table>\n",
       "</div>"
      ],
      "text/plain": [
       "     A\n",
       "0  0.0\n",
       "1  0.0\n",
       "2  1.0\n",
       "3  1.0\n",
       "4  0.0"
      ]
     },
     "execution_count": 162,
     "metadata": {},
     "output_type": "execute_result"
    }
   ],
   "source": [
    "a = adult_train['a']\n",
    "da = pd.DataFrame(a)\n",
    "da.columns = ['A']\n",
    "da.head()"
   ]
  },
  {
   "cell_type": "code",
   "execution_count": 163,
   "metadata": {
    "collapsed": false
   },
   "outputs": [
    {
     "data": {
      "text/html": [
       "<div>\n",
       "<table border=\"1\" class=\"dataframe\">\n",
       "  <thead>\n",
       "    <tr style=\"text-align: right;\">\n",
       "      <th></th>\n",
       "      <th>age_u20</th>\n",
       "      <th>age_u30</th>\n",
       "      <th>age_u40</th>\n",
       "      <th>age_u50</th>\n",
       "      <th>age_u60</th>\n",
       "      <th>age_u70</th>\n",
       "      <th>age_u80</th>\n",
       "      <th>workclass_Private</th>\n",
       "      <th>workclass_Self-emp-not-inc</th>\n",
       "      <th>workclass_Self-emp-inc</th>\n",
       "      <th>...</th>\n",
       "      <th>country_Nicaragua</th>\n",
       "      <th>country_Scotland</th>\n",
       "      <th>country_Thailand</th>\n",
       "      <th>country_Yugoslavia</th>\n",
       "      <th>country_El-Salvador</th>\n",
       "      <th>country_Trinadad&amp;Tobago</th>\n",
       "      <th>country_Peru</th>\n",
       "      <th>country_Hong</th>\n",
       "      <th>country_Holand-Netherlands</th>\n",
       "      <th>country_?</th>\n",
       "    </tr>\n",
       "  </thead>\n",
       "  <tbody>\n",
       "    <tr>\n",
       "      <th>0</th>\n",
       "      <td>0.0</td>\n",
       "      <td>0.0</td>\n",
       "      <td>1.0</td>\n",
       "      <td>0.0</td>\n",
       "      <td>0.0</td>\n",
       "      <td>0.0</td>\n",
       "      <td>0.0</td>\n",
       "      <td>1.0</td>\n",
       "      <td>0.0</td>\n",
       "      <td>0.0</td>\n",
       "      <td>...</td>\n",
       "      <td>0.0</td>\n",
       "      <td>0.0</td>\n",
       "      <td>0.0</td>\n",
       "      <td>0.0</td>\n",
       "      <td>0.0</td>\n",
       "      <td>0.0</td>\n",
       "      <td>0.0</td>\n",
       "      <td>0.0</td>\n",
       "      <td>0.0</td>\n",
       "      <td>0.0</td>\n",
       "    </tr>\n",
       "    <tr>\n",
       "      <th>1</th>\n",
       "      <td>0.0</td>\n",
       "      <td>1.0</td>\n",
       "      <td>0.0</td>\n",
       "      <td>0.0</td>\n",
       "      <td>0.0</td>\n",
       "      <td>0.0</td>\n",
       "      <td>0.0</td>\n",
       "      <td>1.0</td>\n",
       "      <td>0.0</td>\n",
       "      <td>0.0</td>\n",
       "      <td>...</td>\n",
       "      <td>0.0</td>\n",
       "      <td>0.0</td>\n",
       "      <td>0.0</td>\n",
       "      <td>0.0</td>\n",
       "      <td>0.0</td>\n",
       "      <td>0.0</td>\n",
       "      <td>0.0</td>\n",
       "      <td>0.0</td>\n",
       "      <td>0.0</td>\n",
       "      <td>0.0</td>\n",
       "    </tr>\n",
       "    <tr>\n",
       "      <th>2</th>\n",
       "      <td>0.0</td>\n",
       "      <td>0.0</td>\n",
       "      <td>1.0</td>\n",
       "      <td>0.0</td>\n",
       "      <td>0.0</td>\n",
       "      <td>0.0</td>\n",
       "      <td>0.0</td>\n",
       "      <td>1.0</td>\n",
       "      <td>0.0</td>\n",
       "      <td>0.0</td>\n",
       "      <td>...</td>\n",
       "      <td>0.0</td>\n",
       "      <td>0.0</td>\n",
       "      <td>0.0</td>\n",
       "      <td>0.0</td>\n",
       "      <td>0.0</td>\n",
       "      <td>0.0</td>\n",
       "      <td>0.0</td>\n",
       "      <td>0.0</td>\n",
       "      <td>0.0</td>\n",
       "      <td>0.0</td>\n",
       "    </tr>\n",
       "    <tr>\n",
       "      <th>3</th>\n",
       "      <td>1.0</td>\n",
       "      <td>0.0</td>\n",
       "      <td>0.0</td>\n",
       "      <td>0.0</td>\n",
       "      <td>0.0</td>\n",
       "      <td>0.0</td>\n",
       "      <td>0.0</td>\n",
       "      <td>0.0</td>\n",
       "      <td>0.0</td>\n",
       "      <td>0.0</td>\n",
       "      <td>...</td>\n",
       "      <td>0.0</td>\n",
       "      <td>0.0</td>\n",
       "      <td>0.0</td>\n",
       "      <td>0.0</td>\n",
       "      <td>0.0</td>\n",
       "      <td>0.0</td>\n",
       "      <td>0.0</td>\n",
       "      <td>0.0</td>\n",
       "      <td>0.0</td>\n",
       "      <td>0.0</td>\n",
       "    </tr>\n",
       "    <tr>\n",
       "      <th>4</th>\n",
       "      <td>1.0</td>\n",
       "      <td>0.0</td>\n",
       "      <td>0.0</td>\n",
       "      <td>0.0</td>\n",
       "      <td>0.0</td>\n",
       "      <td>0.0</td>\n",
       "      <td>0.0</td>\n",
       "      <td>1.0</td>\n",
       "      <td>0.0</td>\n",
       "      <td>0.0</td>\n",
       "      <td>...</td>\n",
       "      <td>0.0</td>\n",
       "      <td>0.0</td>\n",
       "      <td>0.0</td>\n",
       "      <td>0.0</td>\n",
       "      <td>0.0</td>\n",
       "      <td>0.0</td>\n",
       "      <td>0.0</td>\n",
       "      <td>0.0</td>\n",
       "      <td>0.0</td>\n",
       "      <td>0.0</td>\n",
       "    </tr>\n",
       "  </tbody>\n",
       "</table>\n",
       "<p>5 rows × 113 columns</p>\n",
       "</div>"
      ],
      "text/plain": [
       "   age_u20  age_u30  age_u40  age_u50  age_u60  age_u70  age_u80  \\\n",
       "0      0.0      0.0      1.0      0.0      0.0      0.0      0.0   \n",
       "1      0.0      1.0      0.0      0.0      0.0      0.0      0.0   \n",
       "2      0.0      0.0      1.0      0.0      0.0      0.0      0.0   \n",
       "3      1.0      0.0      0.0      0.0      0.0      0.0      0.0   \n",
       "4      1.0      0.0      0.0      0.0      0.0      0.0      0.0   \n",
       "\n",
       "   workclass_Private  workclass_Self-emp-not-inc  workclass_Self-emp-inc  \\\n",
       "0                1.0                         0.0                     0.0   \n",
       "1                1.0                         0.0                     0.0   \n",
       "2                1.0                         0.0                     0.0   \n",
       "3                0.0                         0.0                     0.0   \n",
       "4                1.0                         0.0                     0.0   \n",
       "\n",
       "     ...      country_Nicaragua  country_Scotland  country_Thailand  \\\n",
       "0    ...                    0.0               0.0               0.0   \n",
       "1    ...                    0.0               0.0               0.0   \n",
       "2    ...                    0.0               0.0               0.0   \n",
       "3    ...                    0.0               0.0               0.0   \n",
       "4    ...                    0.0               0.0               0.0   \n",
       "\n",
       "   country_Yugoslavia  country_El-Salvador  country_Trinadad&Tobago  \\\n",
       "0                 0.0                  0.0                      0.0   \n",
       "1                 0.0                  0.0                      0.0   \n",
       "2                 0.0                  0.0                      0.0   \n",
       "3                 0.0                  0.0                      0.0   \n",
       "4                 0.0                  0.0                      0.0   \n",
       "\n",
       "   country_Peru  country_Hong  country_Holand-Netherlands  country_?  \n",
       "0           0.0           0.0                         0.0        0.0  \n",
       "1           0.0           0.0                         0.0        0.0  \n",
       "2           0.0           0.0                         0.0        0.0  \n",
       "3           0.0           0.0                         0.0        0.0  \n",
       "4           0.0           0.0                         0.0        0.0  \n",
       "\n",
       "[5 rows x 113 columns]"
      ]
     },
     "execution_count": 163,
     "metadata": {},
     "output_type": "execute_result"
    }
   ],
   "source": [
    "x = adult_test['x']\n",
    "dxt = pd.DataFrame(x)\n",
    "dxt.head()\n",
    "data = pd.read_csv('adult_headers.txt', header=None)\n",
    "data.columns = ['headers']\n",
    "liste = []\n",
    "for header in data['headers']:\n",
    "    liste.append(header)\n",
    "dxt.columns = liste[:len(liste)-1]\n",
    "dxt.head()"
   ]
  },
  {
   "cell_type": "code",
   "execution_count": 164,
   "metadata": {
    "collapsed": false
   },
   "outputs": [
    {
     "data": {
      "text/html": [
       "<div>\n",
       "<table border=\"1\" class=\"dataframe\">\n",
       "  <thead>\n",
       "    <tr style=\"text-align: right;\">\n",
       "      <th></th>\n",
       "      <th>income</th>\n",
       "    </tr>\n",
       "  </thead>\n",
       "  <tbody>\n",
       "    <tr>\n",
       "      <th>0</th>\n",
       "      <td>0.0</td>\n",
       "    </tr>\n",
       "    <tr>\n",
       "      <th>1</th>\n",
       "      <td>0.0</td>\n",
       "    </tr>\n",
       "    <tr>\n",
       "      <th>2</th>\n",
       "      <td>0.0</td>\n",
       "    </tr>\n",
       "    <tr>\n",
       "      <th>3</th>\n",
       "      <td>0.0</td>\n",
       "    </tr>\n",
       "    <tr>\n",
       "      <th>4</th>\n",
       "      <td>0.0</td>\n",
       "    </tr>\n",
       "  </tbody>\n",
       "</table>\n",
       "</div>"
      ],
      "text/plain": [
       "   income\n",
       "0     0.0\n",
       "1     0.0\n",
       "2     0.0\n",
       "3     0.0\n",
       "4     0.0"
      ]
     },
     "execution_count": 164,
     "metadata": {},
     "output_type": "execute_result"
    }
   ],
   "source": [
    "y = adult_test['y']\n",
    "dyt = pd.DataFrame(y)\n",
    "dyt.columns = [liste[len(liste)-1]]\n",
    "dyt.head()"
   ]
  },
  {
   "cell_type": "code",
   "execution_count": 165,
   "metadata": {
    "collapsed": false
   },
   "outputs": [
    {
     "data": {
      "text/html": [
       "<div>\n",
       "<table border=\"1\" class=\"dataframe\">\n",
       "  <thead>\n",
       "    <tr style=\"text-align: right;\">\n",
       "      <th></th>\n",
       "      <th>A</th>\n",
       "    </tr>\n",
       "  </thead>\n",
       "  <tbody>\n",
       "    <tr>\n",
       "      <th>0</th>\n",
       "      <td>0.0</td>\n",
       "    </tr>\n",
       "    <tr>\n",
       "      <th>1</th>\n",
       "      <td>1.0</td>\n",
       "    </tr>\n",
       "    <tr>\n",
       "      <th>2</th>\n",
       "      <td>1.0</td>\n",
       "    </tr>\n",
       "    <tr>\n",
       "      <th>3</th>\n",
       "      <td>0.0</td>\n",
       "    </tr>\n",
       "    <tr>\n",
       "      <th>4</th>\n",
       "      <td>1.0</td>\n",
       "    </tr>\n",
       "  </tbody>\n",
       "</table>\n",
       "</div>"
      ],
      "text/plain": [
       "     A\n",
       "0  0.0\n",
       "1  1.0\n",
       "2  1.0\n",
       "3  0.0\n",
       "4  1.0"
      ]
     },
     "execution_count": 165,
     "metadata": {},
     "output_type": "execute_result"
    }
   ],
   "source": [
    "a = adult_test['a']\n",
    "dat = pd.DataFrame(a)\n",
    "dat.columns = ['A']\n",
    "dat.head()"
   ]
  },
  {
   "cell_type": "markdown",
   "metadata": {},
   "source": [
    "# Correlation on the train"
   ]
  },
  {
   "cell_type": "markdown",
   "metadata": {},
   "source": [
    "#  Name the 10 features which are most correlated with Y on the train"
   ]
  },
  {
   "cell_type": "code",
   "execution_count": 166,
   "metadata": {
    "collapsed": true
   },
   "outputs": [],
   "source": [
    "#concatenation of the two Dataframe 'x' and 'y'\n",
    "frames = [df,dy]\n",
    "result = pd.concat(frames, axis=1)\n",
    "result.shape\n",
    "#correlation between x and y\n",
    "corr_dfdy = result.corr()"
   ]
  },
  {
   "cell_type": "code",
   "execution_count": 167,
   "metadata": {
    "collapsed": false
   },
   "outputs": [
    {
     "data": {
      "text/plain": [
       "Index(['marital-status_Married-civ-spouse', 'relationship_Husband',\n",
       "       'education_num', 'marital-status_Never-married', 'age_u30',\n",
       "       'hours-per-week', 'relationship_Own-child', 'capital-gain',\n",
       "       'sex_Female', 'sex_Male'],\n",
       "      dtype='object')"
      ]
     },
     "execution_count": 167,
     "metadata": {},
     "output_type": "execute_result"
    }
   ],
   "source": [
    "corr_income = corr_dfdy['income'].abs()\n",
    "correlation1 = corr_income.sort_values(ascending= False)[1:11]\n",
    "correlation1.index"
   ]
  },
  {
   "cell_type": "code",
   "execution_count": 168,
   "metadata": {
    "collapsed": false
   },
   "outputs": [
    {
     "data": {
      "image/png": "[encoded data removed]",
      "text/plain": [
       "<matplotlib.figure.Figure at 0x7f3274234198>"
      ]
     },
     "metadata": {},
     "output_type": "display_data"
    }
   ],
   "source": [
    "plt.figure(figsize=(8,8))\n",
    "labels = list(correlation1.index) \n",
    "sizes = list(correlation1.get_values())\n",
    "colors = ['yellowgreen', 'gold', 'lightskyblue', 'lightcoral',  'blue', 'green', 'red', 'cyan', 'magenta', 'yellow']\n",
    "explode = (0.1, 0, 0, 0, 0, 0, 0, 0, 0, 0)\n",
    "\n",
    "# Plot\n",
    "plt.pie(sizes, explode=explode, labels=labels, colors=colors,\n",
    "autopct='%1.1f%%', shadow=True, startangle=140)\n",
    "\n",
    "plt.axis('equal')\n",
    "plt.show()"
   ]
  },
  {
   "cell_type": "markdown",
   "metadata": {},
   "source": [
    "# Name the 10 features which are most correlated with A"
   ]
  },
  {
   "cell_type": "code",
   "execution_count": 169,
   "metadata": {
    "collapsed": true
   },
   "outputs": [],
   "source": [
    "#concatenation of the two Dataframe 'x' and 'A'\n",
    "frames1 = [df,da]\n",
    "result1 = pd.concat(frames1, axis=1)\n",
    "result1.shape\n",
    "#correlation between x and A\n",
    "corr_dfda = result1.corr()"
   ]
  },
  {
   "cell_type": "code",
   "execution_count": 170,
   "metadata": {
    "collapsed": false
   },
   "outputs": [
    {
     "data": {
      "text/plain": [
       "Index(['sex_Female', 'sex_Male', 'relationship_Husband',\n",
       "       'marital-status_Married-civ-spouse', 'relationship_Unmarried',\n",
       "       'relationship_Wife', 'occupation_Adm-clerical', 'hours-per-week',\n",
       "       'marital-status_Divorced', 'occupation_Craft-repair'],\n",
       "      dtype='object')"
      ]
     },
     "execution_count": 170,
     "metadata": {},
     "output_type": "execute_result"
    }
   ],
   "source": [
    "corr_income1 = corr_dfda['A'].abs()\n",
    "corr_var_A_x = corr_income1.sort_values(ascending= False)[1:11]\n",
    "corr_var_A_x.index"
   ]
  },
  {
   "cell_type": "code",
   "execution_count": 171,
   "metadata": {
    "collapsed": false
   },
   "outputs": [
    {
     "data": {
      "image/png": "[encoded data removed]",
      "text/plain": [
       "<matplotlib.figure.Figure at 0x7f322051d1d0>"
      ]
     },
     "metadata": {},
     "output_type": "display_data"
    }
   ],
   "source": [
    "plt.figure(figsize=(8,8))\n",
    "labels = list(corr_var_A_x.index) \n",
    "sizes = list(corr_var_A_x.get_values()) #[215, 130, 245, 210]\n",
    "colors = ['yellowgreen', 'gold', 'lightskyblue', 'lightcoral',  'blue', 'green', 'red', 'cyan', 'magenta', 'yellow']\n",
    "explode = (0.1, 0, 0, 0, 0, 0, 0, 0, 0, 0)  # explode 1st slice\n",
    "\n",
    "# Plot\n",
    "plt.pie(sizes, explode=explode, labels=labels, colors=colors,\n",
    "autopct='%1.1f%%', shadow=True, startangle=140)\n",
    "\n",
    "plt.axis('equal')\n",
    "plt.show()"
   ]
  },
  {
   "cell_type": "markdown",
   "metadata": {},
   "source": [
    " # Correlation on the test"
   ]
  },
  {
   "cell_type": "code",
   "execution_count": 172,
   "metadata": {
    "collapsed": true
   },
   "outputs": [],
   "source": [
    "#concatenation of the two Dataframe 'x' and 'y'\n",
    "frames3 = [dxt,dyt]\n",
    "result3 = pd.concat(frames3, axis=1)\n",
    "result3.shape\n",
    "#correlation between x and y\n",
    "corr_dxtdyt = result3.corr()"
   ]
  },
  {
   "cell_type": "code",
   "execution_count": 173,
   "metadata": {
    "collapsed": false
   },
   "outputs": [
    {
     "data": {
      "text/plain": [
       "Index(['marital-status_Married-civ-spouse', 'relationship_Husband',\n",
       "       'education_num', 'marital-status_Never-married', 'age_u30',\n",
       "       'hours-per-week', 'capital-gain', 'relationship_Own-child',\n",
       "       'sex_Female', 'sex_Male'],\n",
       "      dtype='object')"
      ]
     },
     "execution_count": 173,
     "metadata": {},
     "output_type": "execute_result"
    }
   ],
   "source": [
    "corr_income3 = corr_dxtdyt['income'].abs()\n",
    "correlation2 = corr_income3.sort_values(ascending= False)[1:11]\n",
    "correlation2.index"
   ]
  },
  {
   "cell_type": "code",
   "execution_count": 174,
   "metadata": {
    "collapsed": false
   },
   "outputs": [
    {
     "data": {
      "image/png": "[encoded data removed]",
      "text/plain": [
       "<matplotlib.figure.Figure at 0x7f3220456470>"
      ]
     },
     "metadata": {},
     "output_type": "display_data"
    }
   ],
   "source": [
    "plt.figure(figsize=(8,8))\n",
    "labels = list(correlation2.index) \n",
    "sizes = list(correlation2.get_values()) #[215, 130, 245, 210]\n",
    "colors = ['yellowgreen', 'gold', 'lightskyblue', 'lightcoral',  'blue', 'green', 'red', 'cyan', 'magenta', 'yellow']\n",
    "explode = (0.1, 0, 0, 0, 0, 0, 0, 0, 0, 0)  # explode 1st slice\n",
    "\n",
    "# Plot\n",
    "plt.pie(sizes, explode=explode, labels=labels, colors=colors,\n",
    "autopct='%1.1f%%', shadow=True, startangle=140)\n",
    "\n",
    "plt.axis('equal')\n",
    "plt.show()"
   ]
  },
  {
   "cell_type": "markdown",
   "metadata": {},
   "source": [
    "# Name the 10 features which are most correlated with A"
   ]
  },
  {
   "cell_type": "code",
   "execution_count": 175,
   "metadata": {
    "collapsed": false
   },
   "outputs": [],
   "source": [
    "#concatenation of the two Dataframe 'x' and 'A'\n",
    "frames2 = [dxt,dat]\n",
    "result2 = pd.concat(frames2, axis=1)\n",
    "result2.shape\n",
    "#correlation between x and A\n",
    "corr_dxtdat = result2.corr()"
   ]
  },
  {
   "cell_type": "code",
   "execution_count": 176,
   "metadata": {
    "collapsed": false
   },
   "outputs": [
    {
     "data": {
      "text/plain": [
       "Index(['sex_Female', 'sex_Male', 'relationship_Husband',\n",
       "       'marital-status_Married-civ-spouse', 'relationship_Wife',\n",
       "       'relationship_Unmarried', 'occupation_Adm-clerical',\n",
       "       'marital-status_Divorced', 'hours-per-week', 'occupation_Craft-repair'],\n",
       "      dtype='object')"
      ]
     },
     "execution_count": 176,
     "metadata": {},
     "output_type": "execute_result"
    }
   ],
   "source": [
    "corr_income2 = corr_dxtdat['A'].abs()\n",
    "corr_var_A_xt = corr_income2.sort_values(ascending= False)[1:11]\n",
    "corr_var_A_xt.index"
   ]
  },
  {
   "cell_type": "code",
   "execution_count": 177,
   "metadata": {
    "collapsed": false
   },
   "outputs": [
    {
     "data": {
      "image/png": "[encoded data removed]",
      "text/plain": [
       "<matplotlib.figure.Figure at 0x7f3220486550>"
      ]
     },
     "metadata": {},
     "output_type": "display_data"
    }
   ],
   "source": [
    "plt.figure(figsize=(8,8))\n",
    "labels = list(corr_var_A_xt.index) \n",
    "sizes = list(corr_var_A_xt.get_values()) \n",
    "colors = ['yellowgreen', 'gold', 'lightskyblue', 'lightcoral',  'blue', 'green', 'red', 'cyan', 'magenta', 'yellow']\n",
    "explode = (0, 0, 0.1, 0, 0, 0, 0, 0, 0, 0)  # explode 1st slice\n",
    "\n",
    "# Plot\n",
    "plt.pie(sizes, explode=explode, labels=labels, colors=colors,\n",
    "autopct='%1.1f%%', shadow=True, startangle=140)\n",
    "\n",
    "plt.axis('equal')\n",
    "plt.show()"
   ]
  },
  {
   "cell_type": "markdown",
   "metadata": {},
   "source": [
    "## 2- Train a binary classifier to predict Y\n",
    "## Logistic Regression"
   ]
  },
  {
   "cell_type": "code",
   "execution_count": 178,
   "metadata": {
    "collapsed": false
   },
   "outputs": [
    {
     "data": {
      "text/plain": [
       "LogisticRegression(C=1.0, class_weight=None, dual=False, fit_intercept=True,\n",
       "                   intercept_scaling=1, l1_ratio=None, max_iter=100,\n",
       "                   multi_class='warn', n_jobs=None, penalty='l2',\n",
       "                   random_state=None, solver='warn', tol=0.0001, verbose=0,\n",
       "                   warm_start=False)"
      ]
     },
     "execution_count": 178,
     "metadata": {},
     "output_type": "execute_result"
    }
   ],
   "source": [
    "# Logistic Regression\n",
    "x_train = adult_train['x']\n",
    "y_train = adult_train['y']\n",
    "x_test = adult_test['x']\n",
    "y_test = adult_test['y']\n",
    "model = LogisticRegression()\n",
    "model.fit(x_train, y_train)"
   ]
  },
  {
   "cell_type": "code",
   "execution_count": 179,
   "metadata": {
    "collapsed": false
   },
   "outputs": [
    {
     "name": "stdout",
     "output_type": "stream",
     "text": [
      "0.8569498188071986\n"
     ]
    }
   ],
   "source": [
    "predicted_classes = model.predict(x_test)\n",
    "score = model.score(x_test,y_test)\n",
    "print(score)"
   ]
  },
  {
   "cell_type": "markdown",
   "metadata": {},
   "source": [
    "## Neural Network"
   ]
  },
  {
   "cell_type": "code",
   "execution_count": 180,
   "metadata": {
    "collapsed": false,
    "scrolled": true
   },
   "outputs": [
    {
     "name": "stdout",
     "output_type": "stream",
     "text": [
      "Epoch 1/100\n",
      "32561/32561 [==============================] - 2s 76us/step - loss: 1.5299 - acc: 0.7826\n",
      "Epoch 2/100\n",
      "32561/32561 [==============================] - 2s 64us/step - loss: 1.4865 - acc: 0.7965\n",
      "Epoch 3/100\n",
      "32561/32561 [==============================] - 2s 65us/step - loss: 1.4828 - acc: 0.7994\n",
      "Epoch 4/100\n",
      "32561/32561 [==============================] - 2s 67us/step - loss: 1.4799 - acc: 0.8019\n",
      "Epoch 5/100\n",
      "32561/32561 [==============================] - 2s 65us/step - loss: 1.4791 - acc: 0.7998\n",
      "Epoch 6/100\n",
      "32561/32561 [==============================] - 2s 65us/step - loss: 1.4779 - acc: 0.8016\n",
      "Epoch 7/100\n",
      "32561/32561 [==============================] - 2s 65us/step - loss: 1.4762 - acc: 0.8017\n",
      "Epoch 8/100\n",
      "32561/32561 [==============================] - 2s 65us/step - loss: 1.4759 - acc: 0.8018\n",
      "Epoch 9/100\n",
      "32561/32561 [==============================] - 2s 68us/step - loss: 1.4762 - acc: 0.8018\n",
      "Epoch 10/100\n",
      "32561/32561 [==============================] - 2s 66us/step - loss: 1.4759 - acc: 0.8006\n",
      "Epoch 11/100\n",
      "32561/32561 [==============================] - 2s 65us/step - loss: 1.4738 - acc: 0.8027\n",
      "Epoch 12/100\n",
      "32561/32561 [==============================] - 2s 65us/step - loss: 1.4733 - acc: 0.8035\n",
      "Epoch 13/100\n",
      "32561/32561 [==============================] - 2s 66us/step - loss: 1.4715 - acc: 0.8042\n",
      "Epoch 14/100\n",
      "32561/32561 [==============================] - 2s 65us/step - loss: 1.4699 - acc: 0.8035\n",
      "Epoch 15/100\n",
      "32561/32561 [==============================] - 2s 64us/step - loss: 1.4705 - acc: 0.8038\n",
      "Epoch 16/100\n",
      "32561/32561 [==============================] - 2s 66us/step - loss: 1.4701 - acc: 0.8046\n",
      "Epoch 17/100\n",
      "32561/32561 [==============================] - 2s 65us/step - loss: 1.4682 - acc: 0.8050\n",
      "Epoch 18/100\n",
      "32561/32561 [==============================] - 2s 66us/step - loss: 1.4667 - acc: 0.8067\n",
      "Epoch 19/100\n",
      "32561/32561 [==============================] - 2s 65us/step - loss: 1.4648 - acc: 0.8062\n",
      "Epoch 20/100\n",
      "32561/32561 [==============================] - 2s 66us/step - loss: 1.4650 - acc: 0.8057\n",
      "Epoch 21/100\n",
      "32561/32561 [==============================] - 2s 65us/step - loss: 1.4632 - acc: 0.8068\n",
      "Epoch 22/100\n",
      "32561/32561 [==============================] - 2s 65us/step - loss: 1.4622 - acc: 0.8066\n",
      "Epoch 23/100\n",
      "32561/32561 [==============================] - 2s 67us/step - loss: 1.4600 - acc: 0.8072\n",
      "Epoch 24/100\n",
      "32561/32561 [==============================] - 2s 66us/step - loss: 1.4589 - acc: 0.8081\n",
      "Epoch 25/100\n",
      "32561/32561 [==============================] - 2s 69us/step - loss: 1.4581 - acc: 0.8090\n",
      "Epoch 26/100\n",
      "32561/32561 [==============================] - 2s 66us/step - loss: 1.4565 - acc: 0.8100\n",
      "Epoch 27/100\n",
      "32561/32561 [==============================] - 2s 68us/step - loss: 1.4553 - acc: 0.8115\n",
      "Epoch 28/100\n",
      "32561/32561 [==============================] - 2s 68us/step - loss: 1.4537 - acc: 0.8101\n",
      "Epoch 29/100\n",
      "32561/32561 [==============================] - 2s 65us/step - loss: 1.4517 - acc: 0.8104\n",
      "Epoch 30/100\n",
      "32561/32561 [==============================] - 2s 66us/step - loss: 1.4507 - acc: 0.8113\n",
      "Epoch 31/100\n",
      "32561/32561 [==============================] - 2s 64us/step - loss: 1.4489 - acc: 0.8120\n",
      "Epoch 32/100\n",
      "32561/32561 [==============================] - 2s 65us/step - loss: 1.4476 - acc: 0.8122\n",
      "Epoch 33/100\n",
      "32561/32561 [==============================] - 2s 64us/step - loss: 1.4463 - acc: 0.8136\n",
      "Epoch 34/100\n",
      "32561/32561 [==============================] - 2s 64us/step - loss: 1.4451 - acc: 0.8140\n",
      "Epoch 35/100\n",
      "32561/32561 [==============================] - 2s 63us/step - loss: 1.4434 - acc: 0.8150\n",
      "Epoch 36/100\n",
      "32561/32561 [==============================] - 2s 64us/step - loss: 1.4419 - acc: 0.8147\n",
      "Epoch 37/100\n",
      "32561/32561 [==============================] - 2s 65us/step - loss: 1.4381 - acc: 0.8172\n",
      "Epoch 38/100\n",
      "32561/32561 [==============================] - 2s 63us/step - loss: 1.4372 - acc: 0.8173\n",
      "Epoch 39/100\n",
      "32561/32561 [==============================] - 2s 66us/step - loss: 1.4376 - acc: 0.8178\n",
      "Epoch 40/100\n",
      "32561/32561 [==============================] - 2s 64us/step - loss: 1.4343 - acc: 0.8191\n",
      "Epoch 41/100\n",
      "32561/32561 [==============================] - 2s 64us/step - loss: 1.4322 - acc: 0.8188\n",
      "Epoch 42/100\n",
      "32561/32561 [==============================] - 2s 63us/step - loss: 1.4313 - acc: 0.8191\n",
      "Epoch 43/100\n",
      "32561/32561 [==============================] - 2s 63us/step - loss: 1.4294 - acc: 0.8215\n",
      "Epoch 44/100\n",
      "32561/32561 [==============================] - 2s 66us/step - loss: 1.4272 - acc: 0.8218\n",
      "Epoch 45/100\n",
      "32561/32561 [==============================] - 2s 64us/step - loss: 1.4287 - acc: 0.8214\n",
      "Epoch 46/100\n",
      "32561/32561 [==============================] - 2s 66us/step - loss: 1.4247 - acc: 0.8223\n",
      "Epoch 47/100\n",
      "32561/32561 [==============================] - 2s 64us/step - loss: 1.4216 - acc: 0.8235\n",
      "Epoch 48/100\n",
      "32561/32561 [==============================] - 2s 64us/step - loss: 1.4191 - acc: 0.8256\n",
      "Epoch 49/100\n",
      "32561/32561 [==============================] - 2s 64us/step - loss: 1.4203 - acc: 0.8257\n",
      "Epoch 50/100\n",
      "32561/32561 [==============================] - 2s 64us/step - loss: 1.4173 - acc: 0.8268\n",
      "Epoch 51/100\n",
      "32561/32561 [==============================] - 2s 66us/step - loss: 1.4185 - acc: 0.8263\n",
      "Epoch 52/100\n",
      "32561/32561 [==============================] - 2s 64us/step - loss: 1.4146 - acc: 0.8272\n",
      "Epoch 53/100\n",
      "32561/32561 [==============================] - 2s 66us/step - loss: 1.4134 - acc: 0.8277\n",
      "Epoch 54/100\n",
      "32561/32561 [==============================] - 2s 64us/step - loss: 1.4095 - acc: 0.8292\n",
      "Epoch 55/100\n",
      "32561/32561 [==============================] - 2s 63us/step - loss: 1.4091 - acc: 0.8291\n",
      "Epoch 56/100\n",
      "32561/32561 [==============================] - 2s 64us/step - loss: 1.4079 - acc: 0.8303\n",
      "Epoch 57/100\n",
      "32561/32561 [==============================] - 2s 63us/step - loss: 1.4087 - acc: 0.8313\n",
      "Epoch 58/100\n",
      "32561/32561 [==============================] - 2s 64us/step - loss: 1.4052 - acc: 0.8308\n",
      "Epoch 59/100\n",
      "32561/32561 [==============================] - 2s 63us/step - loss: 1.4022 - acc: 0.8318\n",
      "Epoch 60/100\n",
      "32561/32561 [==============================] - 2s 66us/step - loss: 1.4045 - acc: 0.8317\n",
      "Epoch 61/100\n",
      "32561/32561 [==============================] - 2s 66us/step - loss: 1.4028 - acc: 0.8326\n",
      "Epoch 62/100\n",
      "32561/32561 [==============================] - 2s 63us/step - loss: 1.3989 - acc: 0.8349\n",
      "Epoch 63/100\n",
      "32561/32561 [==============================] - 2s 64us/step - loss: 1.3977 - acc: 0.8360\n",
      "Epoch 64/100\n",
      "32561/32561 [==============================] - 2s 64us/step - loss: 1.3983 - acc: 0.8340\n",
      "Epoch 65/100\n",
      "32561/32561 [==============================] - 2s 64us/step - loss: 1.3967 - acc: 0.8353\n",
      "Epoch 66/100\n",
      "32561/32561 [==============================] - 2s 64us/step - loss: 1.3948 - acc: 0.8373\n",
      "Epoch 67/100\n",
      "32561/32561 [==============================] - 2s 66us/step - loss: 1.3919 - acc: 0.8381\n",
      "Epoch 68/100\n",
      "32561/32561 [==============================] - 2s 66us/step - loss: 1.3908 - acc: 0.8389\n",
      "Epoch 69/100\n",
      "32561/32561 [==============================] - 2s 65us/step - loss: 1.3880 - acc: 0.8398\n",
      "Epoch 70/100\n",
      "32561/32561 [==============================] - 2s 64us/step - loss: 1.3889 - acc: 0.8388\n",
      "Epoch 71/100\n",
      "32561/32561 [==============================] - 2s 64us/step - loss: 1.3959 - acc: 0.8379\n",
      "Epoch 72/100\n",
      "32561/32561 [==============================] - 2s 64us/step - loss: 1.3884 - acc: 0.8391\n",
      "Epoch 73/100\n",
      "32561/32561 [==============================] - 2s 64us/step - loss: 1.3922 - acc: 0.8385\n",
      "Epoch 74/100\n",
      "32561/32561 [==============================] - 2s 64us/step - loss: 1.3891 - acc: 0.8386\n",
      "Epoch 75/100\n",
      "32561/32561 [==============================] - 2s 68us/step - loss: 1.3849 - acc: 0.8405\n",
      "Epoch 76/100\n",
      "32561/32561 [==============================] - 2s 65us/step - loss: 1.3828 - acc: 0.8413\n",
      "Epoch 77/100\n",
      "32561/32561 [==============================] - 2s 64us/step - loss: 1.3808 - acc: 0.8428\n",
      "Epoch 78/100\n",
      "32561/32561 [==============================] - 2s 64us/step - loss: 1.3837 - acc: 0.8414\n",
      "Epoch 79/100\n",
      "32561/32561 [==============================] - 2s 64us/step - loss: 1.3824 - acc: 0.8425\n",
      "Epoch 80/100\n",
      "32561/32561 [==============================] - 2s 65us/step - loss: 1.3787 - acc: 0.8432\n",
      "Epoch 81/100\n",
      "32561/32561 [==============================] - 2s 64us/step - loss: 1.3785 - acc: 0.8437\n",
      "Epoch 82/100\n",
      "32561/32561 [==============================] - 2s 67us/step - loss: 1.3776 - acc: 0.8451\n",
      "Epoch 83/100\n",
      "32561/32561 [==============================] - 2s 65us/step - loss: 1.3786 - acc: 0.8438\n",
      "Epoch 84/100\n",
      "32561/32561 [==============================] - 2s 67us/step - loss: 1.3758 - acc: 0.8456\n",
      "Epoch 85/100\n",
      "32561/32561 [==============================] - 2s 65us/step - loss: 1.3786 - acc: 0.8444\n",
      "Epoch 86/100\n",
      "32561/32561 [==============================] - 2s 65us/step - loss: 1.3752 - acc: 0.8460\n",
      "Epoch 87/100\n",
      "32561/32561 [==============================] - 2s 64us/step - loss: 1.3779 - acc: 0.8443\n",
      "Epoch 88/100\n",
      "32561/32561 [==============================] - 2s 65us/step - loss: 1.3774 - acc: 0.8444\n",
      "Epoch 89/100\n",
      "32561/32561 [==============================] - 2s 68us/step - loss: 1.3704 - acc: 0.8461\n",
      "Epoch 90/100\n",
      "32561/32561 [==============================] - 2s 67us/step - loss: 1.3768 - acc: 0.8447\n",
      "Epoch 91/100\n",
      "32561/32561 [==============================] - 2s 67us/step - loss: 1.3734 - acc: 0.8466\n",
      "Epoch 92/100\n",
      "32561/32561 [==============================] - 2s 65us/step - loss: 1.3732 - acc: 0.8466\n",
      "Epoch 93/100\n",
      "32561/32561 [==============================] - 2s 66us/step - loss: 1.3695 - acc: 0.8468\n",
      "Epoch 94/100\n",
      "32561/32561 [==============================] - 2s 65us/step - loss: 1.3701 - acc: 0.8463\n",
      "Epoch 95/100\n",
      "32561/32561 [==============================] - 2s 65us/step - loss: 1.3728 - acc: 0.8463\n",
      "Epoch 96/100\n",
      "32561/32561 [==============================] - 2s 70us/step - loss: 1.3683 - acc: 0.8472\n",
      "Epoch 97/100\n",
      "32561/32561 [==============================] - 2s 66us/step - loss: 1.3711 - acc: 0.8463\n",
      "Epoch 98/100\n",
      "32561/32561 [==============================] - 2s 67us/step - loss: 1.3730 - acc: 0.8464\n",
      "Epoch 99/100\n",
      "32561/32561 [==============================] - 2s 65us/step - loss: 1.3656 - acc: 0.8487\n",
      "Epoch 100/100\n",
      "32561/32561 [==============================] - 2s 65us/step - loss: 1.3730 - acc: 0.8464\n",
      "16281/16281 [==============================] - 0s 23us/step\n"
     ]
    }
   ],
   "source": [
    "# Neural Ntework \n",
    "# define a sequential model\n",
    "model_n = Sequential()\n",
    "\n",
    "# add model layers\n",
    "\n",
    "n_cols = x_train.shape[1]\n",
    "\n",
    "model_n.add(Dense(500, activation ='relu', input_dim = n_cols))\n",
    "model_n.add(Dense(500,activation ='relu'))\n",
    "model_n.add(Dense(500, activation='relu'))\n",
    "\n",
    "model_n.add(Dense(1, activation='sigmoid'))\n",
    "\n",
    "# compile model_n using as a measure of performance\n",
    "\n",
    "model_n.compile(optimizer= 'adam', loss ='binary_crossentropy', metrics=['accuracy'])\n",
    "\n",
    "#train model\n",
    "model_n.fit(x_train, y_train, batch_size = 128, epochs = 100)\n",
    "\n",
    "score = model_n.evaluate(x_test, y_test, batch_size = 128)"
   ]
  },
  {
   "cell_type": "code",
   "execution_count": 186,
   "metadata": {
    "collapsed": false
   },
   "outputs": [
    {
     "name": "stdout",
     "output_type": "stream",
     "text": [
      "16281/16281 [==============================] - 0s 30us/step\n"
     ]
    },
    {
     "data": {
      "text/plain": [
       "[1.712859742040021, 0.784656962095743]"
      ]
     },
     "execution_count": 186,
     "metadata": {},
     "output_type": "execute_result"
    }
   ],
   "source": [
    "model_n.evaluate(x_test, y_test)"
   ]
  },
  {
   "cell_type": "markdown",
   "metadata": {},
   "source": [
    "## Function accuray"
   ]
  },
  {
   "cell_type": "code",
   "execution_count": 187,
   "metadata": {
    "collapsed": true
   },
   "outputs": [],
   "source": [
    "def accuracy(label, prediction):\n",
    "    return np.count_nonzero(label == prediction)/(label.shape[0])"
   ]
  },
  {
   "cell_type": "code",
   "execution_count": 188,
   "metadata": {
    "collapsed": false
   },
   "outputs": [
    {
     "data": {
      "text/plain": [
       "0.7846569621030649"
      ]
     },
     "execution_count": 188,
     "metadata": {},
     "output_type": "execute_result"
    }
   ],
   "source": [
    "y_hate1 = model_n.predict_classes(x_test)\n",
    "accuracy_score = accuracy(y_test,y_hate1)\n",
    "accuracy_score"
   ]
  },
  {
   "cell_type": "markdown",
   "metadata": {},
   "source": [
    "# Report classification accuracy and ∆DP on the test set for your trained classifier"
   ]
  },
  {
   "cell_type": "code",
   "execution_count": 189,
   "metadata": {
    "collapsed": true
   },
   "outputs": [],
   "source": [
    "def delta_DP(prediction, A):\n",
    "    n_A_0 = np.count_nonzero(A==0)\n",
    "    n_A_1 = np.count_nonzero(A==1)\n",
    "    part1 = np.sum(prediction[np.where(A ==0)[0]])\n",
    "    part2 = np.sum(prediction[np.where(A==1)[0]])\n",
    "    return np.abs( part1/n_A_0 - part2/n_A_1 )"
   ]
  },
  {
   "cell_type": "code",
   "execution_count": 190,
   "metadata": {
    "collapsed": false
   },
   "outputs": [
    {
     "data": {
      "text/plain": [
       "0.11610169577894845"
      ]
     },
     "execution_count": 190,
     "metadata": {},
     "output_type": "execute_result"
    }
   ],
   "source": [
    "delta_DP(y_hate1, adult_test['a'])"
   ]
  },
  {
   "cell_type": "markdown",
   "metadata": {},
   "source": [
    "# Remove the 10 attributes that you identified in the first part as being most highly correlated with A, and retrain."
   ]
  },
  {
   "cell_type": "code",
   "execution_count": 191,
   "metadata": {
    "collapsed": false
   },
   "outputs": [
    {
     "data": {
      "text/plain": [
       "(32561, 103)"
      ]
     },
     "execution_count": 191,
     "metadata": {},
     "output_type": "execute_result"
    }
   ],
   "source": [
    "# Remove on train\n",
    "df_remove = df.drop(corr_var_A_x.index, axis=1)\n",
    "df_remove.shape"
   ]
  },
  {
   "cell_type": "code",
   "execution_count": 192,
   "metadata": {
    "collapsed": false
   },
   "outputs": [
    {
     "data": {
      "text/plain": [
       "(16281, 103)"
      ]
     },
     "execution_count": 192,
     "metadata": {},
     "output_type": "execute_result"
    }
   ],
   "source": [
    "#Remove on test\n",
    "dxt_remove = dxt.drop(corr_var_A_xt.index, axis=1)\n",
    "dxt_remove.shape"
   ]
  },
  {
   "cell_type": "markdown",
   "metadata": {},
   "source": [
    "##  Retrain"
   ]
  },
  {
   "cell_type": "code",
   "execution_count": 193,
   "metadata": {
    "collapsed": false,
    "scrolled": true
   },
   "outputs": [
    {
     "name": "stdout",
     "output_type": "stream",
     "text": [
      "Epoch 1/100\n",
      "32561/32561 [==============================] - 3s 77us/step - loss: 1.5159 - acc: 0.7838\n",
      "Epoch 2/100\n",
      "32561/32561 [==============================] - 2s 64us/step - loss: 1.5026 - acc: 0.7902\n",
      "Epoch 3/100\n",
      "32561/32561 [==============================] - 2s 65us/step - loss: 1.5006 - acc: 0.7910\n",
      "Epoch 4/100\n",
      "32561/32561 [==============================] - 2s 64us/step - loss: 1.4987 - acc: 0.7914\n",
      "Epoch 5/100\n",
      "32561/32561 [==============================] - 2s 64us/step - loss: 1.4958 - acc: 0.7924\n",
      "Epoch 6/100\n",
      "32561/32561 [==============================] - 2s 67us/step - loss: 1.4933 - acc: 0.7942\n",
      "Epoch 7/100\n",
      "32561/32561 [==============================] - 2s 68us/step - loss: 1.4921 - acc: 0.7930\n",
      "Epoch 8/100\n",
      "32561/32561 [==============================] - 2s 67us/step - loss: 1.4886 - acc: 0.7944\n",
      "Epoch 9/100\n",
      "32561/32561 [==============================] - 2s 65us/step - loss: 1.4862 - acc: 0.7966\n",
      "Epoch 10/100\n",
      "32561/32561 [==============================] - 2s 64us/step - loss: 1.4835 - acc: 0.7967\n",
      "Epoch 11/100\n",
      "32561/32561 [==============================] - 2s 64us/step - loss: 1.4820 - acc: 0.7965\n",
      "Epoch 12/100\n",
      "32561/32561 [==============================] - 2s 64us/step - loss: 1.4792 - acc: 0.7974\n",
      "Epoch 13/100\n",
      "32561/32561 [==============================] - 2s 67us/step - loss: 1.4767 - acc: 0.7996\n",
      "Epoch 14/100\n",
      "32561/32561 [==============================] - 2s 65us/step - loss: 1.4750 - acc: 0.8009\n",
      "Epoch 15/100\n",
      "32561/32561 [==============================] - 2s 67us/step - loss: 1.4714 - acc: 0.8015\n",
      "Epoch 16/100\n",
      "32561/32561 [==============================] - 2s 66us/step - loss: 1.4700 - acc: 0.8027\n",
      "Epoch 17/100\n",
      "32561/32561 [==============================] - 2s 64us/step - loss: 1.4660 - acc: 0.8046\n",
      "Epoch 18/100\n",
      "32561/32561 [==============================] - 2s 65us/step - loss: 1.4644 - acc: 0.8046\n",
      "Epoch 19/100\n",
      "32561/32561 [==============================] - 2s 66us/step - loss: 1.4621 - acc: 0.8051\n",
      "Epoch 20/100\n",
      "32561/32561 [==============================] - 2s 67us/step - loss: 1.4594 - acc: 0.8067\n",
      "Epoch 21/100\n",
      "32561/32561 [==============================] - 2s 65us/step - loss: 1.4568 - acc: 0.8085\n",
      "Epoch 22/100\n",
      "32561/32561 [==============================] - 2s 68us/step - loss: 1.4560 - acc: 0.8080\n",
      "Epoch 23/100\n",
      "32561/32561 [==============================] - 2s 65us/step - loss: 1.4531 - acc: 0.8097\n",
      "Epoch 24/100\n",
      "32561/32561 [==============================] - 2s 65us/step - loss: 1.4510 - acc: 0.8102\n",
      "Epoch 25/100\n",
      "32561/32561 [==============================] - 2s 65us/step - loss: 1.4485 - acc: 0.8106\n",
      "Epoch 26/100\n",
      "32561/32561 [==============================] - 2s 65us/step - loss: 1.4476 - acc: 0.8113\n",
      "Epoch 27/100\n",
      "32561/32561 [==============================] - 2s 68us/step - loss: 1.4435 - acc: 0.8139\n",
      "Epoch 28/100\n",
      "32561/32561 [==============================] - 2s 65us/step - loss: 1.4464 - acc: 0.8122\n",
      "Epoch 29/100\n",
      "32561/32561 [==============================] - 2s 65us/step - loss: 1.4419 - acc: 0.8144\n",
      "Epoch 30/100\n",
      "32561/32561 [==============================] - 2s 65us/step - loss: 1.4403 - acc: 0.8142\n",
      "Epoch 31/100\n",
      "32561/32561 [==============================] - 2s 64us/step - loss: 1.4408 - acc: 0.8148\n",
      "Epoch 32/100\n",
      "32561/32561 [==============================] - 2s 65us/step - loss: 1.4379 - acc: 0.8151\n",
      "Epoch 33/100\n",
      "32561/32561 [==============================] - 2s 65us/step - loss: 1.4356 - acc: 0.8169\n",
      "Epoch 34/100\n",
      "32561/32561 [==============================] - 2s 67us/step - loss: 1.4354 - acc: 0.8173\n",
      "Epoch 35/100\n",
      "32561/32561 [==============================] - 2s 65us/step - loss: 1.4352 - acc: 0.8159\n",
      "Epoch 36/100\n",
      "32561/32561 [==============================] - 2s 65us/step - loss: 1.4340 - acc: 0.8165\n",
      "Epoch 37/100\n",
      "32561/32561 [==============================] - 2s 65us/step - loss: 1.4313 - acc: 0.8185\n",
      "Epoch 38/100\n",
      "32561/32561 [==============================] - 2s 65us/step - loss: 1.4308 - acc: 0.8186\n",
      "Epoch 39/100\n",
      "32561/32561 [==============================] - 2s 65us/step - loss: 1.4301 - acc: 0.8177\n",
      "Epoch 40/100\n",
      "32561/32561 [==============================] - 2s 64us/step - loss: 1.4314 - acc: 0.8186\n",
      "Epoch 41/100\n",
      "32561/32561 [==============================] - 2s 68us/step - loss: 1.4344 - acc: 0.8167\n",
      "Epoch 42/100\n",
      "32561/32561 [==============================] - 2s 65us/step - loss: 1.4286 - acc: 0.8175\n",
      "Epoch 43/100\n",
      "32561/32561 [==============================] - 2s 68us/step - loss: 1.4273 - acc: 0.8196\n",
      "Epoch 44/100\n",
      "32561/32561 [==============================] - 2s 66us/step - loss: 1.4262 - acc: 0.8193\n",
      "Epoch 45/100\n",
      "32561/32561 [==============================] - 2s 68us/step - loss: 1.4265 - acc: 0.8184\n",
      "Epoch 46/100\n",
      "32561/32561 [==============================] - 2s 67us/step - loss: 1.4266 - acc: 0.8188\n",
      "Epoch 47/100\n",
      "32561/32561 [==============================] - 2s 66us/step - loss: 1.4266 - acc: 0.8202\n",
      "Epoch 48/100\n",
      "32561/32561 [==============================] - 2s 69us/step - loss: 1.4307 - acc: 0.8189\n",
      "Epoch 49/100\n",
      "32561/32561 [==============================] - 2s 65us/step - loss: 1.4246 - acc: 0.8202\n",
      "Epoch 50/100\n",
      "32561/32561 [==============================] - 2s 67us/step - loss: 1.4237 - acc: 0.8212\n",
      "Epoch 51/100\n",
      "32561/32561 [==============================] - 2s 66us/step - loss: 1.4230 - acc: 0.8204\n",
      "Epoch 52/100\n",
      "32561/32561 [==============================] - 2s 65us/step - loss: 1.4232 - acc: 0.8195\n",
      "Epoch 53/100\n",
      "32561/32561 [==============================] - 2s 65us/step - loss: 1.4251 - acc: 0.8204\n",
      "Epoch 54/100\n",
      "32561/32561 [==============================] - 2s 65us/step - loss: 1.4280 - acc: 0.8204\n",
      "Epoch 55/100\n",
      "32561/32561 [==============================] - 2s 67us/step - loss: 1.4239 - acc: 0.8205\n",
      "Epoch 56/100\n",
      "32561/32561 [==============================] - 2s 68us/step - loss: 1.4243 - acc: 0.8207\n",
      "Epoch 57/100\n",
      "32561/32561 [==============================] - 2s 68us/step - loss: 1.4221 - acc: 0.8214\n",
      "Epoch 58/100\n",
      "32561/32561 [==============================] - 2s 67us/step - loss: 1.4197 - acc: 0.8217\n",
      "Epoch 59/100\n",
      "32561/32561 [==============================] - 2s 67us/step - loss: 1.4192 - acc: 0.8220\n",
      "Epoch 60/100\n",
      "32561/32561 [==============================] - 2s 67us/step - loss: 1.4184 - acc: 0.8222\n",
      "Epoch 61/100\n",
      "32561/32561 [==============================] - 2s 66us/step - loss: 1.4191 - acc: 0.8208\n",
      "Epoch 62/100\n",
      "32561/32561 [==============================] - 2s 69us/step - loss: 1.4255 - acc: 0.8205\n",
      "Epoch 63/100\n",
      "32561/32561 [==============================] - 2s 68us/step - loss: 1.4268 - acc: 0.8210\n",
      "Epoch 64/100\n",
      "32561/32561 [==============================] - 2s 67us/step - loss: 1.4222 - acc: 0.8215\n",
      "Epoch 65/100\n",
      "32561/32561 [==============================] - 2s 66us/step - loss: 1.4180 - acc: 0.8229\n",
      "Epoch 66/100\n",
      "32561/32561 [==============================] - 2s 65us/step - loss: 1.4171 - acc: 0.8225\n",
      "Epoch 67/100\n",
      "32561/32561 [==============================] - 2s 65us/step - loss: 1.4163 - acc: 0.8229\n",
      "Epoch 68/100\n",
      "32561/32561 [==============================] - 2s 64us/step - loss: 1.4164 - acc: 0.8226\n",
      "Epoch 69/100\n",
      "32561/32561 [==============================] - 2s 65us/step - loss: 1.4178 - acc: 0.8223\n",
      "Epoch 70/100\n",
      "32561/32561 [==============================] - 2s 68us/step - loss: 1.4214 - acc: 0.8211\n",
      "Epoch 71/100\n",
      "32561/32561 [==============================] - 2s 66us/step - loss: 1.4229 - acc: 0.8218\n",
      "Epoch 72/100\n",
      "32561/32561 [==============================] - 2s 64us/step - loss: 1.4196 - acc: 0.8219\n",
      "Epoch 73/100\n",
      "32561/32561 [==============================] - 2s 65us/step - loss: 1.4202 - acc: 0.8219\n",
      "Epoch 74/100\n",
      "32561/32561 [==============================] - 2s 65us/step - loss: 1.4175 - acc: 0.8228\n",
      "Epoch 75/100\n",
      "32561/32561 [==============================] - 2s 64us/step - loss: 1.4165 - acc: 0.8229\n",
      "Epoch 76/100\n",
      "32561/32561 [==============================] - 2s 65us/step - loss: 1.4160 - acc: 0.8237\n",
      "Epoch 77/100\n",
      "32561/32561 [==============================] - 2s 65us/step - loss: 1.4190 - acc: 0.8219\n",
      "Epoch 78/100\n",
      "32561/32561 [==============================] - 2s 66us/step - loss: 1.4239 - acc: 0.8208\n",
      "Epoch 79/100\n",
      "32561/32561 [==============================] - 2s 65us/step - loss: 1.4194 - acc: 0.8225\n",
      "Epoch 80/100\n",
      "32561/32561 [==============================] - 2s 65us/step - loss: 1.4155 - acc: 0.8233\n",
      "Epoch 81/100\n",
      "32561/32561 [==============================] - 2s 64us/step - loss: 1.4151 - acc: 0.8237\n",
      "Epoch 82/100\n",
      "32561/32561 [==============================] - 2s 65us/step - loss: 1.4149 - acc: 0.8236\n",
      "Epoch 83/100\n",
      "32561/32561 [==============================] - 2s 68us/step - loss: 1.4150 - acc: 0.8233\n",
      "Epoch 84/100\n",
      "32561/32561 [==============================] - 2s 66us/step - loss: 1.4158 - acc: 0.8228\n",
      "Epoch 85/100\n",
      "32561/32561 [==============================] - 2s 66us/step - loss: 1.4291 - acc: 0.8205\n",
      "Epoch 86/100\n",
      "32561/32561 [==============================] - 2s 65us/step - loss: 1.4265 - acc: 0.8210\n",
      "Epoch 87/100\n",
      "32561/32561 [==============================] - 2s 65us/step - loss: 1.4232 - acc: 0.8216\n",
      "Epoch 88/100\n",
      "32561/32561 [==============================] - 2s 65us/step - loss: 1.4157 - acc: 0.8229\n",
      "Epoch 89/100\n",
      "32561/32561 [==============================] - 2s 65us/step - loss: 1.4134 - acc: 0.8236\n",
      "Epoch 90/100\n",
      "32561/32561 [==============================] - 2s 67us/step - loss: 1.4133 - acc: 0.8237\n",
      "Epoch 91/100\n",
      "32561/32561 [==============================] - 2s 65us/step - loss: 1.4133 - acc: 0.8240\n",
      "Epoch 92/100\n",
      "32561/32561 [==============================] - 2s 65us/step - loss: 1.4136 - acc: 0.8240\n",
      "Epoch 93/100\n",
      "32561/32561 [==============================] - 2s 67us/step - loss: 1.4144 - acc: 0.8236\n",
      "Epoch 94/100\n",
      "32561/32561 [==============================] - 2s 66us/step - loss: 1.4139 - acc: 0.8231\n",
      "Epoch 95/100\n",
      "32561/32561 [==============================] - 2s 65us/step - loss: 1.4136 - acc: 0.8234\n",
      "Epoch 96/100\n",
      "32561/32561 [==============================] - 2s 65us/step - loss: 1.4173 - acc: 0.8224\n",
      "Epoch 97/100\n",
      "32561/32561 [==============================] - 2s 68us/step - loss: 1.4244 - acc: 0.8209\n",
      "Epoch 98/100\n",
      "32561/32561 [==============================] - 2s 65us/step - loss: 1.4205 - acc: 0.8229\n",
      "Epoch 99/100\n",
      "32561/32561 [==============================] - 2s 66us/step - loss: 1.4148 - acc: 0.8233\n",
      "Epoch 100/100\n",
      "32561/32561 [==============================] - 2s 67us/step - loss: 1.4131 - acc: 0.8246\n"
     ]
    },
    {
     "data": {
      "text/plain": [
       "<keras.callbacks.History at 0x7f3220276eb8>"
      ]
     },
     "execution_count": 193,
     "metadata": {},
     "output_type": "execute_result"
    }
   ],
   "source": [
    "# Retrain\n",
    "# Neural Ntework \n",
    "# define a sequential model\n",
    "model_n = Sequential()\n",
    "\n",
    "# add model layers\n",
    "\n",
    "n_cols = df_remove.shape[1]\n",
    "\n",
    "model_n.add(Dense(500, activation ='relu', input_dim = n_cols))\n",
    "model_n.add(Dense(500,activation ='relu'))\n",
    "model_n.add(Dense(500, activation='relu'))\n",
    "\n",
    "model_n.add(Dense(1, activation='sigmoid'))\n",
    "\n",
    "# compile model_n using as a measure of performance\n",
    "\n",
    "model_n.compile(optimizer= 'adam', loss ='binary_crossentropy', metrics=['accuracy'])\n",
    "\n",
    "#train model\n",
    "model_n.fit(df_remove, y_train, batch_size = 128, epochs = 100)"
   ]
  },
  {
   "cell_type": "code",
   "execution_count": 194,
   "metadata": {
    "collapsed": false
   },
   "outputs": [
    {
     "name": "stdout",
     "output_type": "stream",
     "text": [
      "16281/16281 [==============================] - 0s 25us/step\n"
     ]
    },
    {
     "data": {
      "text/plain": [
       "[1.7703365950135463, 0.78312142985465]"
      ]
     },
     "execution_count": 194,
     "metadata": {},
     "output_type": "execute_result"
    }
   ],
   "source": [
    "model_n.evaluate(dxt_remove, y_test, batch_size = 128)"
   ]
  },
  {
   "cell_type": "markdown",
   "metadata": {},
   "source": [
    "# Report accuracy"
   ]
  },
  {
   "cell_type": "code",
   "execution_count": 195,
   "metadata": {
    "collapsed": false
   },
   "outputs": [
    {
     "data": {
      "text/plain": [
       "0.783121429887599"
      ]
     },
     "execution_count": 195,
     "metadata": {},
     "output_type": "execute_result"
    }
   ],
   "source": [
    "# Report accuracy\n",
    "y_hate2 = model_n.predict_classes(dxt_remove)\n",
    "accuracy_score = accuracy(y_test,y_hate2)\n",
    "accuracy_score"
   ]
  },
  {
   "cell_type": "markdown",
   "metadata": {},
   "source": [
    "# Report ∆DP on the retrained classifier"
   ]
  },
  {
   "cell_type": "code",
   "execution_count": 240,
   "metadata": {
    "collapsed": false
   },
   "outputs": [],
   "source": [
    "def delta_DP(prediction, A):\n",
    "    n_A_0 = np.count_nonzero(A==0)\n",
    "    n_A_1 = np.count_nonzero(A==1)\n",
    "    part1 = np.sum(prediction[np.where(A ==0)[0]])\n",
    "    part2 = np.sum(prediction[np.where(A==1)[0]])\n",
    "    return np.abs( part1/n_A_0 - part2/n_A_1 )"
   ]
  },
  {
   "cell_type": "code",
   "execution_count": 241,
   "metadata": {
    "collapsed": false
   },
   "outputs": [
    {
     "data": {
      "text/plain": [
       "0.07550435639588626"
      ]
     },
     "execution_count": 241,
     "metadata": {},
     "output_type": "execute_result"
    }
   ],
   "source": [
    "delta_DP(y_hate2, adult_test['a'])"
   ]
  },
  {
   "cell_type": "markdown",
   "metadata": {},
   "source": [
    "# Question :Which sensitive group has higher values of Ŷ, on average?"
   ]
  },
  {
   "cell_type": "markdown",
   "metadata": {},
   "source": [
    "# 3- Let’s take a look at how the features in our data correlate with the learned predictor Ŷ"
   ]
  },
  {
   "cell_type": "code",
   "execution_count": 206,
   "metadata": {
    "collapsed": true
   },
   "outputs": [],
   "source": [
    "dy_hate1 = pd.DataFrame(y_hate1)\n",
    "dy_hate1.columns = ['income']\n",
    "dy_hate1.head()\n",
    "#concatenation of the two Dataframe 'x_test' and 'dy_hate'\n",
    "\n",
    "frames4 = [dxt, dy_hate1]\n",
    "result4 = pd.concat(frames4, axis=1)\n",
    "result4.shape\n",
    "\n",
    "#correlation between x_test and dy_hate\n",
    "\n",
    "corr_dxt_y_hate1 = result4.corr()"
   ]
  },
  {
   "cell_type": "code",
   "execution_count": 207,
   "metadata": {
    "collapsed": false
   },
   "outputs": [
    {
     "data": {
      "text/plain": [
       "Index(['income', 'marital-status_Married-civ-spouse', 'relationship_Husband',\n",
       "       'education_num', 'marital-status_Never-married',\n",
       "       'occupation_Exec-managerial', 'education_Bachelors', 'age_u30',\n",
       "       'age_u50', 'education_HS-grad',\n",
       "       ...\n",
       "       'country_China', 'country_South', 'country_Laos', 'age_u70',\n",
       "       'education_Assoc-voc', 'occupation_Armed-Forces', 'country_Iran',\n",
       "       'country_Germany', 'country_Yugoslavia', 'country_Holand-Netherlands'],\n",
       "      dtype='object', length=114)"
      ]
     },
     "execution_count": 207,
     "metadata": {},
     "output_type": "execute_result"
    }
   ],
   "source": [
    "corr_in = corr_dxt_y_hate1['income'].abs()\n",
    "corr_in.sort_values(ascending= False).index"
   ]
  },
  {
   "cell_type": "markdown",
   "metadata": {},
   "source": [
    "# Which three features in the data are most correlated with Ŷ ?"
   ]
  },
  {
   "cell_type": "code",
   "execution_count": 230,
   "metadata": {
    "collapsed": false
   },
   "outputs": [
    {
     "data": {
      "text/plain": [
       "Index(['marital-status_Married-civ-spouse', 'relationship_Husband',\n",
       "       'education_num'],\n",
       "      dtype='object')"
      ]
     },
     "execution_count": 230,
     "metadata": {},
     "output_type": "execute_result"
    }
   ],
   "source": [
    "corr_in = corr_dxt_y_hate1['income'].abs()\n",
    "correlation3 = corr_in.sort_values(ascending= False)[1:4]\n",
    "correlation3.index"
   ]
  },
  {
   "cell_type": "code",
   "execution_count": 209,
   "metadata": {
    "collapsed": false
   },
   "outputs": [
    {
     "data": {
      "image/png": "[encoded data removed]",
      "text/plain": [
       "<matplotlib.figure.Figure at 0x7f31f3590048>"
      ]
     },
     "metadata": {},
     "output_type": "display_data"
    }
   ],
   "source": [
    "plt.figure(figsize=(8,8))\n",
    "labels = list(correlation3.index) \n",
    "sizes = list(correlation3.get_values())\n",
    "colors = ['green', 'red', 'yellow']\n",
    "explode = (0.1, 0, 0)  # explode 1st slice\n",
    "\n",
    "# Plot\n",
    "plt.pie(sizes, explode=explode, labels=labels, colors=colors,\n",
    "autopct='%1.1f%%', shadow=True, startangle=140)\n",
    "\n",
    "plt.axis('equal')\n",
    "plt.show()"
   ]
  },
  {
   "cell_type": "markdown",
   "metadata": {},
   "source": [
    "# Which three features in the data are most correlated with Ŷ ? Where A = 0"
   ]
  },
  {
   "cell_type": "code",
   "execution_count": 210,
   "metadata": {
    "collapsed": true
   },
   "outputs": [],
   "source": [
    "dy_hate1 = pd.DataFrame(y_hate1)\n",
    "dy_hate1.columns = ['income']\n",
    "dy_hate1.head()\n",
    "#concatenation of the two Dataframe 'x_test' and 'dy_hate'\n",
    "\n",
    "frames4 = [dxt, dy_hate1]\n",
    "result4 = pd.concat(frames4, axis=1)\n",
    "#result4.drop(np.where(adult_test['a']==1)\n",
    "result_A_0 =result4.drop(np.where(adult_test['a'] ==1)[0], axis=0)\n",
    "                          \n",
    "#correlation between x_test and dy_hate where A = 0\n",
    "\n",
    "corr_dxt_y_hate1_A_0 = result_A_0.corr()"
   ]
  },
  {
   "cell_type": "code",
   "execution_count": 211,
   "metadata": {
    "collapsed": false
   },
   "outputs": [
    {
     "data": {
      "text/plain": [
       "Index(['relationship_Wife', 'marital-status_Married-civ-spouse',\n",
       "       'education_num'],\n",
       "      dtype='object')"
      ]
     },
     "execution_count": 211,
     "metadata": {},
     "output_type": "execute_result"
    }
   ],
   "source": [
    "corr_in0 = corr_dxt_y_hate1_A_0['income'].abs()\n",
    "correlation4 = corr_in0.sort_values(ascending= False)[1:4]\n",
    "correlation4.index"
   ]
  },
  {
   "cell_type": "code",
   "execution_count": 212,
   "metadata": {
    "collapsed": false
   },
   "outputs": [
    {
     "data": {
      "image/png": "[encoded data removed]",
      "text/plain": [
       "<matplotlib.figure.Figure at 0x7f31f356d0f0>"
      ]
     },
     "metadata": {},
     "output_type": "display_data"
    }
   ],
   "source": [
    "plt.figure(figsize=(8,8))\n",
    "labels = list(correlation4.index) \n",
    "sizes = list(correlation4.get_values())\n",
    "colors = ['green', 'red', 'blue']\n",
    "explode = (0.1, 0, 0)  # explode 1st slice\n",
    "\n",
    "# Plot\n",
    "plt.pie(sizes, explode=explode, labels=labels, colors=colors,\n",
    "autopct='%1.1f%%', shadow=True, startangle=140)\n",
    "\n",
    "plt.axis('equal')\n",
    "plt.show()"
   ]
  },
  {
   "cell_type": "markdown",
   "metadata": {},
   "source": [
    "# Which three features in the data are most correlated with Ŷ ? Where A = 1"
   ]
  },
  {
   "cell_type": "code",
   "execution_count": 226,
   "metadata": {
    "collapsed": true
   },
   "outputs": [],
   "source": [
    "dy_hate1 = pd.DataFrame(y_hate1)\n",
    "dy_hate1.columns = ['income']\n",
    "dy_hate1.head()\n",
    "#concatenation of the two Dataframe 'x_test' and 'dy_hate'\n",
    "\n",
    "frames4 = [dxt, dy_hate1]\n",
    "result4 = pd.concat(frames4, axis=1)\n",
    "#result4.drop(np.where(adult_test['a']==1)\n",
    "result_A_1 =result4.drop(np.where(adult_test['a']==0)[0], axis=0)\n",
    "                          \n",
    "#correlation between x_test and dy_hate where A = 0\n",
    "\n",
    "corr_dxt_y_hate1_A_1 = result_A_1.corr()"
   ]
  },
  {
   "cell_type": "code",
   "execution_count": 227,
   "metadata": {
    "collapsed": false
   },
   "outputs": [
    {
     "data": {
      "text/plain": [
       "Index(['education_num', 'relationship_Husband',\n",
       "       'marital-status_Married-civ-spouse'],\n",
       "      dtype='object')"
      ]
     },
     "execution_count": 227,
     "metadata": {},
     "output_type": "execute_result"
    }
   ],
   "source": [
    "corr_in1 = corr_dxt_y_hate1_A_1['income'].abs()\n",
    "correlation5 = corr_in1.sort_values(ascending= False)[1:4]\n",
    "correlation5.index"
   ]
  },
  {
   "cell_type": "code",
   "execution_count": 228,
   "metadata": {
    "collapsed": false
   },
   "outputs": [
    {
     "data": {
      "image/png": "[encoded data removed]",
      "text/plain": [
       "<matplotlib.figure.Figure at 0x7f31f2cf0668>"
      ]
     },
     "metadata": {},
     "output_type": "display_data"
    }
   ],
   "source": [
    "plt.figure(figsize=(8,8))\n",
    "labels = list(correlation5.index) \n",
    "sizes = list(correlation5.get_values())\n",
    "colors = ['lightskyblue', 'lightcoral', 'yellow']\n",
    "explode = (0, 0, 0.1)  # explode 1st slice\n",
    "\n",
    "# Plot\n",
    "plt.pie(sizes, explode=explode, labels=labels, colors=colors,\n",
    "autopct='%1.1f%%', shadow=True, startangle=140)\n",
    "\n",
    "plt.axis('equal')\n",
    "plt.show()"
   ]
  },
  {
   "cell_type": "markdown",
   "metadata": {},
   "source": [
    "## 4 - Prediction of A"
   ]
  },
  {
   "cell_type": "markdown",
   "metadata": {},
   "source": [
    "# Make a version of this data, but with the attributes called “sex Female” and “sex Male” removed."
   ]
  },
  {
   "cell_type": "code",
   "execution_count": 216,
   "metadata": {
    "collapsed": true
   },
   "outputs": [],
   "source": [
    "A_train = adult_train['a']\n",
    "A_test = adult_test['a']\n",
    "\n",
    "# Remove attribus sex_Male' and 'sex_Female' on DataFrame x and y \n",
    "df.columns = lists[:len(lists)-1]\n",
    "df_train_remove = df.drop(['sex_Male', 'sex_Female'],axis=1)\n",
    "dxt_test_remove = dxt.drop(['sex_Male', 'sex_Female'],axis=1)"
   ]
  },
  {
   "cell_type": "markdown",
   "metadata": {},
   "source": [
    "# Train a classifier"
   ]
  },
  {
   "cell_type": "code",
   "execution_count": 217,
   "metadata": {
    "collapsed": false,
    "scrolled": true
   },
   "outputs": [
    {
     "name": "stdout",
     "output_type": "stream",
     "text": [
      "Epoch 1/100\n",
      "32561/32561 [==============================] - 3s 80us/step - loss: 1.6105 - acc: 0.7259\n",
      "Epoch 2/100\n",
      "32561/32561 [==============================] - 2s 66us/step - loss: 1.4962 - acc: 0.7739\n",
      "Epoch 3/100\n",
      "32561/32561 [==============================] - 2s 66us/step - loss: 1.4899 - acc: 0.7787\n",
      "Epoch 4/100\n",
      "32561/32561 [==============================] - 2s 64us/step - loss: 1.4882 - acc: 0.7768\n",
      "Epoch 5/100\n",
      "32561/32561 [==============================] - 2s 64us/step - loss: 1.4853 - acc: 0.7787\n",
      "Epoch 6/100\n",
      "32561/32561 [==============================] - 2s 64us/step - loss: 1.4830 - acc: 0.7835\n",
      "Epoch 7/100\n",
      "32561/32561 [==============================] - 2s 65us/step - loss: 1.4821 - acc: 0.7826\n",
      "Epoch 8/100\n",
      "32561/32561 [==============================] - 2s 64us/step - loss: 1.4830 - acc: 0.7826\n",
      "Epoch 9/100\n",
      "32561/32561 [==============================] - 2s 65us/step - loss: 1.4796 - acc: 0.7837\n",
      "Epoch 10/100\n",
      "32561/32561 [==============================] - 2s 68us/step - loss: 1.4791 - acc: 0.7857\n",
      "Epoch 11/100\n",
      "32561/32561 [==============================] - 2s 66us/step - loss: 1.4775 - acc: 0.7862\n",
      "Epoch 12/100\n",
      "32561/32561 [==============================] - 2s 65us/step - loss: 1.4772 - acc: 0.7859\n",
      "Epoch 13/100\n",
      "32561/32561 [==============================] - 2s 65us/step - loss: 1.4758 - acc: 0.7879\n",
      "Epoch 14/100\n",
      "32561/32561 [==============================] - 2s 65us/step - loss: 1.4734 - acc: 0.7893\n",
      "Epoch 15/100\n",
      "32561/32561 [==============================] - 2s 65us/step - loss: 1.4734 - acc: 0.7895\n",
      "Epoch 16/100\n",
      "32561/32561 [==============================] - 2s 66us/step - loss: 1.4724 - acc: 0.7904\n",
      "Epoch 17/100\n",
      "32561/32561 [==============================] - 2s 68us/step - loss: 1.4694 - acc: 0.7915\n",
      "Epoch 18/100\n",
      "32561/32561 [==============================] - 2s 66us/step - loss: 1.4708 - acc: 0.7914\n",
      "Epoch 19/100\n",
      "32561/32561 [==============================] - 2s 67us/step - loss: 1.4681 - acc: 0.7927\n",
      "Epoch 20/100\n",
      "32561/32561 [==============================] - 2s 65us/step - loss: 1.4664 - acc: 0.7947\n",
      "Epoch 21/100\n",
      "32561/32561 [==============================] - 2s 65us/step - loss: 1.4641 - acc: 0.7950\n",
      "Epoch 22/100\n",
      "32561/32561 [==============================] - 2s 66us/step - loss: 1.4649 - acc: 0.7945\n",
      "Epoch 23/100\n",
      "32561/32561 [==============================] - 2s 67us/step - loss: 1.4627 - acc: 0.7967\n",
      "Epoch 24/100\n",
      "32561/32561 [==============================] - 2s 68us/step - loss: 1.4598 - acc: 0.7971\n",
      "Epoch 25/100\n",
      "32561/32561 [==============================] - 2s 65us/step - loss: 1.4576 - acc: 0.7998\n",
      "Epoch 26/100\n",
      "32561/32561 [==============================] - 2s 65us/step - loss: 1.4582 - acc: 0.7998\n",
      "Epoch 27/100\n",
      "32561/32561 [==============================] - 2s 65us/step - loss: 1.4554 - acc: 0.8010\n",
      "Epoch 28/100\n",
      "32561/32561 [==============================] - 2s 65us/step - loss: 1.4542 - acc: 0.8008\n",
      "Epoch 29/100\n",
      "32561/32561 [==============================] - 2s 65us/step - loss: 1.4504 - acc: 0.8037\n",
      "Epoch 30/100\n",
      "32561/32561 [==============================] - 2s 67us/step - loss: 1.4491 - acc: 0.8051\n",
      "Epoch 31/100\n",
      "32561/32561 [==============================] - 2s 67us/step - loss: 1.4472 - acc: 0.8062\n",
      "Epoch 32/100\n",
      "32561/32561 [==============================] - 2s 66us/step - loss: 1.4444 - acc: 0.8071\n",
      "Epoch 33/100\n",
      "32561/32561 [==============================] - 2s 66us/step - loss: 1.4438 - acc: 0.8077\n",
      "Epoch 34/100\n",
      "32561/32561 [==============================] - 2s 65us/step - loss: 1.4409 - acc: 0.8089\n",
      "Epoch 35/100\n",
      "32561/32561 [==============================] - 2s 68us/step - loss: 1.4391 - acc: 0.8082\n",
      "Epoch 36/100\n",
      "32561/32561 [==============================] - 2s 67us/step - loss: 1.4398 - acc: 0.8101\n",
      "Epoch 37/100\n",
      "32561/32561 [==============================] - 2s 67us/step - loss: 1.4371 - acc: 0.8102\n",
      "Epoch 38/100\n",
      "32561/32561 [==============================] - 2s 69us/step - loss: 1.4329 - acc: 0.8139\n",
      "Epoch 39/100\n",
      "32561/32561 [==============================] - 2s 67us/step - loss: 1.4302 - acc: 0.8149\n",
      "Epoch 40/100\n",
      "32561/32561 [==============================] - 2s 67us/step - loss: 1.4285 - acc: 0.8146\n",
      "Epoch 41/100\n",
      "32561/32561 [==============================] - 2s 66us/step - loss: 1.4282 - acc: 0.8147\n",
      "Epoch 42/100\n",
      "32561/32561 [==============================] - 2s 66us/step - loss: 1.4233 - acc: 0.8188\n",
      "Epoch 43/100\n",
      "32561/32561 [==============================] - 2s 68us/step - loss: 1.4218 - acc: 0.8178\n",
      "Epoch 44/100\n",
      "32561/32561 [==============================] - 2s 68us/step - loss: 1.4188 - acc: 0.8214\n",
      "Epoch 45/100\n",
      "32561/32561 [==============================] - 2s 69us/step - loss: 1.4194 - acc: 0.8201\n",
      "Epoch 46/100\n",
      "32561/32561 [==============================] - 2s 66us/step - loss: 1.4158 - acc: 0.8228\n",
      "Epoch 47/100\n",
      "32561/32561 [==============================] - 2s 65us/step - loss: 1.4116 - acc: 0.8243\n",
      "Epoch 48/100\n",
      "32561/32561 [==============================] - 2s 65us/step - loss: 1.4124 - acc: 0.8235\n",
      "Epoch 49/100\n",
      "32561/32561 [==============================] - 2s 65us/step - loss: 1.4087 - acc: 0.8258\n",
      "Epoch 50/100\n",
      "32561/32561 [==============================] - 2s 68us/step - loss: 1.4044 - acc: 0.8270\n",
      "Epoch 51/100\n",
      "32561/32561 [==============================] - 2s 65us/step - loss: 1.4024 - acc: 0.8274\n",
      "Epoch 52/100\n",
      "32561/32561 [==============================] - 2s 68us/step - loss: 1.4003 - acc: 0.8294\n",
      "Epoch 53/100\n",
      "32561/32561 [==============================] - 2s 65us/step - loss: 1.4009 - acc: 0.8298\n",
      "Epoch 54/100\n",
      "32561/32561 [==============================] - 2s 66us/step - loss: 1.3983 - acc: 0.8311\n",
      "Epoch 55/100\n",
      "32561/32561 [==============================] - 2s 67us/step - loss: 1.4039 - acc: 0.8273\n",
      "Epoch 56/100\n",
      "32561/32561 [==============================] - 2s 66us/step - loss: 1.3931 - acc: 0.8345\n",
      "Epoch 57/100\n",
      "32561/32561 [==============================] - 2s 67us/step - loss: 1.3884 - acc: 0.8359\n",
      "Epoch 58/100\n",
      "32561/32561 [==============================] - 2s 66us/step - loss: 1.3894 - acc: 0.8344\n",
      "Epoch 59/100\n",
      "32561/32561 [==============================] - 2s 68us/step - loss: 1.3878 - acc: 0.8365\n",
      "Epoch 60/100\n",
      "32561/32561 [==============================] - 2s 66us/step - loss: 1.3882 - acc: 0.8372\n",
      "Epoch 61/100\n",
      "32561/32561 [==============================] - 2s 67us/step - loss: 1.3837 - acc: 0.8380\n",
      "Epoch 62/100\n",
      "32561/32561 [==============================] - 2s 68us/step - loss: 1.3849 - acc: 0.8389\n",
      "Epoch 63/100\n",
      "32561/32561 [==============================] - 2s 66us/step - loss: 1.3802 - acc: 0.8400\n",
      "Epoch 64/100\n",
      "32561/32561 [==============================] - 2s 69us/step - loss: 1.3826 - acc: 0.8395\n",
      "Epoch 65/100\n",
      "32561/32561 [==============================] - 2s 65us/step - loss: 1.3789 - acc: 0.8406\n",
      "Epoch 66/100\n",
      "32561/32561 [==============================] - 2s 70us/step - loss: 1.3756 - acc: 0.8418\n",
      "Epoch 67/100\n",
      "32561/32561 [==============================] - 2s 67us/step - loss: 1.3781 - acc: 0.8415\n",
      "Epoch 68/100\n",
      "32561/32561 [==============================] - 2s 67us/step - loss: 1.3769 - acc: 0.8433\n",
      "Epoch 69/100\n",
      "32561/32561 [==============================] - 2s 66us/step - loss: 1.3723 - acc: 0.8443\n",
      "Epoch 70/100\n",
      "32561/32561 [==============================] - 2s 66us/step - loss: 1.3728 - acc: 0.8449\n",
      "Epoch 71/100\n",
      "32561/32561 [==============================] - 2s 68us/step - loss: 1.3691 - acc: 0.8452\n",
      "Epoch 72/100\n",
      "32561/32561 [==============================] - 2s 67us/step - loss: 1.3704 - acc: 0.8456\n",
      "Epoch 73/100\n",
      "32561/32561 [==============================] - 2s 68us/step - loss: 1.3703 - acc: 0.8444\n",
      "Epoch 74/100\n",
      "32561/32561 [==============================] - 2s 66us/step - loss: 1.3672 - acc: 0.8475\n",
      "Epoch 75/100\n",
      "32561/32561 [==============================] - 2s 65us/step - loss: 1.3648 - acc: 0.8477\n",
      "Epoch 76/100\n",
      "32561/32561 [==============================] - 2s 69us/step - loss: 1.3642 - acc: 0.8470\n",
      "Epoch 77/100\n",
      "32561/32561 [==============================] - 2s 71us/step - loss: 1.3621 - acc: 0.8473\n",
      "Epoch 78/100\n",
      "32561/32561 [==============================] - 2s 75us/step - loss: 1.3693 - acc: 0.8467\n",
      "Epoch 79/100\n",
      "32561/32561 [==============================] - 3s 81us/step - loss: 1.3650 - acc: 0.8481\n",
      "Epoch 80/100\n",
      "32561/32561 [==============================] - 3s 86us/step - loss: 1.3627 - acc: 0.8491\n",
      "Epoch 81/100\n",
      "32561/32561 [==============================] - 2s 71us/step - loss: 1.3577 - acc: 0.8521\n",
      "Epoch 82/100\n",
      "32561/32561 [==============================] - 2s 71us/step - loss: 1.3575 - acc: 0.8522\n",
      "Epoch 83/100\n",
      "32561/32561 [==============================] - 2s 67us/step - loss: 1.3732 - acc: 0.8453\n",
      "Epoch 84/100\n",
      "32561/32561 [==============================] - 2s 66us/step - loss: 1.3593 - acc: 0.8510\n",
      "Epoch 85/100\n",
      "32561/32561 [==============================] - 3s 86us/step - loss: 1.3548 - acc: 0.8520\n",
      "Epoch 86/100\n",
      "32561/32561 [==============================] - 3s 87us/step - loss: 1.3581 - acc: 0.8513\n",
      "Epoch 87/100\n",
      "32561/32561 [==============================] - 3s 84us/step - loss: 1.3538 - acc: 0.8531\n",
      "Epoch 88/100\n",
      "32561/32561 [==============================] - 2s 75us/step - loss: 1.3528 - acc: 0.8524\n",
      "Epoch 89/100\n",
      "32561/32561 [==============================] - 3s 86us/step - loss: 1.3510 - acc: 0.8546\n",
      "Epoch 90/100\n",
      "32561/32561 [==============================] - 2s 75us/step - loss: 1.3535 - acc: 0.8525\n",
      "Epoch 91/100\n",
      "32561/32561 [==============================] - 2s 76us/step - loss: 1.3546 - acc: 0.8518\n",
      "Epoch 92/100\n",
      "32561/32561 [==============================] - 2s 75us/step - loss: 1.3603 - acc: 0.8504\n",
      "Epoch 93/100\n",
      "32561/32561 [==============================] - 2s 72us/step - loss: 1.3543 - acc: 0.8522\n",
      "Epoch 94/100\n",
      "32561/32561 [==============================] - 2s 73us/step - loss: 1.3578 - acc: 0.8516\n",
      "Epoch 95/100\n",
      "32561/32561 [==============================] - 2s 73us/step - loss: 1.3524 - acc: 0.8530\n",
      "Epoch 96/100\n",
      "32561/32561 [==============================] - 2s 73us/step - loss: 1.3500 - acc: 0.8545\n",
      "Epoch 97/100\n",
      "32561/32561 [==============================] - 2s 73us/step - loss: 1.3470 - acc: 0.8556\n",
      "Epoch 98/100\n",
      "32561/32561 [==============================] - 2s 73us/step - loss: 1.3489 - acc: 0.8553\n",
      "Epoch 99/100\n",
      "32561/32561 [==============================] - 2s 72us/step - loss: 1.3484 - acc: 0.8556\n",
      "Epoch 100/100\n",
      "32561/32561 [==============================] - 2s 73us/step - loss: 1.3478 - acc: 0.8549\n"
     ]
    },
    {
     "data": {
      "text/plain": [
       "<keras.callbacks.History at 0x7f3280e84a90>"
      ]
     },
     "execution_count": 217,
     "metadata": {},
     "output_type": "execute_result"
    }
   ],
   "source": [
    "# Retrain\n",
    "# Neural Ntework \n",
    "# define a sequential model\n",
    "model_n = Sequential()\n",
    "\n",
    "# add model layers\n",
    "\n",
    "n_cols = df_train_remove.shape[1]\n",
    "\n",
    "model_n.add(Dense(500, activation ='relu', input_dim = n_cols))\n",
    "model_n.add(Dense(500,activation ='relu'))\n",
    "model_n.add(Dense(500, activation='relu'))\n",
    "\n",
    "model_n.add(Dense(1, activation='sigmoid')) \n",
    "\n",
    "# compile model_n using as a measure of performance\n",
    "\n",
    "model_n.compile(optimizer= 'adam', loss ='binary_crossentropy', metrics=['accuracy'])\n",
    "\n",
    "#train model\n",
    "model_n.fit(df_train_remove, A_train, batch_size = 128, epochs = 100)"
   ]
  },
  {
   "cell_type": "code",
   "execution_count": 123,
   "metadata": {
    "collapsed": false
   },
   "outputs": [
    {
     "name": "stdout",
     "output_type": "stream",
     "text": [
      "16281/16281 [==============================] - 0s 21us/step\n"
     ]
    },
    {
     "data": {
      "text/plain": [
       "[1.1759958984766756, 0.8116209077993238]"
      ]
     },
     "execution_count": 123,
     "metadata": {},
     "output_type": "execute_result"
    }
   ],
   "source": [
    "model_n.evaluate(dxt_test_remove, A_test, batch_size = 128)"
   ]
  },
  {
   "cell_type": "code",
   "execution_count": 124,
   "metadata": {
    "collapsed": true
   },
   "outputs": [],
   "source": [
    "def accuracy(label, prediction):\n",
    "    return np.count_nonzero(label == prediction)/(label.shape[0])"
   ]
  },
  {
   "cell_type": "code",
   "execution_count": 125,
   "metadata": {
    "collapsed": false
   },
   "outputs": [
    {
     "data": {
      "text/plain": [
       "0.8116209078066458"
      ]
     },
     "execution_count": 125,
     "metadata": {},
     "output_type": "execute_result"
    }
   ],
   "source": [
    "A_hate = model_n.predict_classes(dxt_test_remove)\n",
    "accuracy_score = accuracy(A_test,A_hate)\n",
    "accuracy_score"
   ]
  },
  {
   "cell_type": "markdown",
   "metadata": {},
   "source": [
    "#  Report reweighted accuracy on test set "
   ]
  },
  {
   "cell_type": "code",
   "execution_count": 126,
   "metadata": {
    "collapsed": true
   },
   "outputs": [],
   "source": [
    "def reweighted_accuracy(label, prediction):\n",
    "    n_A_0 = np.count_nonzero(label ==0)\n",
    "    n_A_1 = np.count_nonzero(label ==1)\n",
    "    part1 = np.sum((label == prediction)[np.where(label==0)[0]])\n",
    "    part2 = np.sum((label == prediction)[np.where(label==1)[0]])\n",
    "    return (part1/n_A_0 + part2/n_A_1)/2"
   ]
  },
  {
   "cell_type": "code",
   "execution_count": 127,
   "metadata": {
    "collapsed": false
   },
   "outputs": [
    {
     "data": {
      "text/plain": [
       "0.7893531227284627"
      ]
     },
     "execution_count": 127,
     "metadata": {},
     "output_type": "execute_result"
    }
   ],
   "source": [
    "reweighted_accuracy(A_hate, A_test)"
   ]
  },
  {
   "cell_type": "markdown",
   "metadata": {},
   "source": [
    "# Remove the attributes that you identified in the first part as being most highly correlated with A, and retrain"
   ]
  },
  {
   "cell_type": "markdown",
   "metadata": {},
   "source": [
    "# Remove the attributes on train "
   ]
  },
  {
   "cell_type": "code",
   "execution_count": 128,
   "metadata": {
    "collapsed": true
   },
   "outputs": [],
   "source": [
    "#concatenation of the two Dataframe 'x' and 'A'\n",
    "frames_con = [df,da]\n",
    "result_con = pd.concat(frames_con, axis=1)\n",
    "result_con.shape\n",
    "#correlation between x and A\n",
    "corr_dfda_con = result_con.corr()"
   ]
  },
  {
   "cell_type": "code",
   "execution_count": 129,
   "metadata": {
    "collapsed": false
   },
   "outputs": [
    {
     "data": {
      "text/plain": [
       "Index(['sex_Female', 'sex_Male', 'relationship_Husband',\n",
       "       'marital-status_Married-civ-spouse', 'relationship_Unmarried',\n",
       "       'relationship_Wife', 'occupation_Adm-clerical', 'hours-per-week',\n",
       "       'marital-status_Divorced', 'occupation_Craft-repair'],\n",
       "      dtype='object')"
      ]
     },
     "execution_count": 129,
     "metadata": {},
     "output_type": "execute_result"
    }
   ],
   "source": [
    "corr_incom = corr_dfda['A'].abs()\n",
    "corr_A_x = corr_incom.sort_values(ascending= False)[1:11]\n",
    "corr_A_x.index"
   ]
  },
  {
   "cell_type": "code",
   "execution_count": 130,
   "metadata": {
    "collapsed": false
   },
   "outputs": [
    {
     "data": {
      "image/png": "[encoded data removed]",
      "text/plain": [
       "<matplotlib.figure.Figure at 0x7f32344aacc0>"
      ]
     },
     "metadata": {},
     "output_type": "display_data"
    }
   ],
   "source": [
    "plt.figure(figsize=(8,8))\n",
    "labels = list(corr_A_x.index) \n",
    "sizes = list(corr_A_x.get_values()) #[215, 130, 245, 210]\n",
    "colors = ['lightskyblue', 'lightcoral', 'gold',  'blue', 'green', 'red', 'cyan','yellowgreen', 'magenta', 'yellow']\n",
    "explode = (0.1, 0, 0, 0, 0, 0, 0, 0, 0, 0)  # explode 1st slice\n",
    "\n",
    "# Plot\n",
    "plt.pie(sizes, explode=explode, labels=labels, colors=colors,\n",
    "autopct='%1.1f%%', shadow=True, startangle=140)\n",
    "\n",
    "plt.axis('equal')\n",
    "plt.show()"
   ]
  },
  {
   "cell_type": "code",
   "execution_count": 131,
   "metadata": {
    "collapsed": false
   },
   "outputs": [
    {
     "data": {
      "text/plain": [
       "(32561, 103)"
      ]
     },
     "execution_count": 131,
     "metadata": {},
     "output_type": "execute_result"
    }
   ],
   "source": [
    "# Remove attributes\n",
    "dfda_remove = df.drop(corr_A_x.index, axis=1)\n",
    "dfda_remove.shape"
   ]
  },
  {
   "cell_type": "markdown",
   "metadata": {},
   "source": [
    "# Remove the attributes on test"
   ]
  },
  {
   "cell_type": "code",
   "execution_count": 132,
   "metadata": {
    "collapsed": true
   },
   "outputs": [],
   "source": [
    "#concatenation of the two Dataframe 'x' and 'A'\n",
    "frames_con_test = [dxt,dat]\n",
    "result_con_test = pd.concat(frames_con_test, axis=1)\n",
    "result_con_test.shape\n",
    "#correlation between x and A\n",
    "corr_dxtdat_test = result_con_test.corr()"
   ]
  },
  {
   "cell_type": "code",
   "execution_count": 133,
   "metadata": {
    "collapsed": false
   },
   "outputs": [
    {
     "data": {
      "text/plain": [
       "Index(['sex_Female', 'sex_Male', 'relationship_Husband',\n",
       "       'marital-status_Married-civ-spouse', 'relationship_Wife',\n",
       "       'relationship_Unmarried', 'occupation_Adm-clerical',\n",
       "       'marital-status_Divorced', 'hours-per-week', 'occupation_Craft-repair'],\n",
       "      dtype='object')"
      ]
     },
     "execution_count": 133,
     "metadata": {},
     "output_type": "execute_result"
    }
   ],
   "source": [
    "corr_inc = corr_dxtdat_test['A'].abs()\n",
    "corr_A_xt = corr_inc.sort_values(ascending= False)[1:11]\n",
    "corr_A_xt.index"
   ]
  },
  {
   "cell_type": "code",
   "execution_count": 134,
   "metadata": {
    "collapsed": false
   },
   "outputs": [
    {
     "data": {
      "image/png": "[encoded data removed]",
      "text/plain": [
       "<matplotlib.figure.Figure at 0x7f323441f198>"
      ]
     },
     "metadata": {},
     "output_type": "display_data"
    }
   ],
   "source": [
    "plt.figure(figsize=(8,8))\n",
    "labels = list(corr_A_xt.index) \n",
    "sizes = list(corr_A_xt.get_values()) #[215, 130, 245, 210]\n",
    "colors = ['gold','yellowgreen', 'lightskyblue', 'lightcoral',  'blue', 'green', 'red', 'cyan', 'magenta', 'yellow']\n",
    "explode = (0.1, 0, 0, 0, 0, 0, 0, 0, 0, 0)  # explode 1st slice\n",
    "\n",
    "# Plot\n",
    "plt.pie(sizes, explode=explode, labels=labels, colors=colors,\n",
    "autopct='%1.1f%%', shadow=True, startangle=140)\n",
    "\n",
    "plt.axis('equal')\n",
    "plt.show()"
   ]
  },
  {
   "cell_type": "code",
   "execution_count": 135,
   "metadata": {
    "collapsed": false
   },
   "outputs": [
    {
     "data": {
      "text/plain": [
       "(16281, 103)"
      ]
     },
     "execution_count": 135,
     "metadata": {},
     "output_type": "execute_result"
    }
   ],
   "source": [
    "# Remove attributes\n",
    "dxtdat_remove = dxt.drop(corr_A_xt.index,axis=1)\n",
    "dxtdat_remove.shape"
   ]
  },
  {
   "cell_type": "markdown",
   "metadata": {},
   "source": [
    "##  Retrain"
   ]
  },
  {
   "cell_type": "code",
   "execution_count": 219,
   "metadata": {
    "collapsed": false,
    "scrolled": true
   },
   "outputs": [
    {
     "name": "stdout",
     "output_type": "stream",
     "text": [
      "Epoch 1/100\n",
      "32561/32561 [==============================] - 3s 90us/step - loss: 1.5492 - acc: 0.6682\n",
      "Epoch 2/100\n",
      "32561/32561 [==============================] - 2s 74us/step - loss: 1.6726 - acc: 0.6796\n",
      "Epoch 3/100\n",
      "32561/32561 [==============================] - 2s 73us/step - loss: 1.6645 - acc: 0.6870\n",
      "Epoch 4/100\n",
      "32561/32561 [==============================] - 2s 72us/step - loss: 1.6561 - acc: 0.6940\n",
      "Epoch 5/100\n",
      "32561/32561 [==============================] - 2s 75us/step - loss: 1.6492 - acc: 0.6988\n",
      "Epoch 6/100\n",
      "32561/32561 [==============================] - 2s 75us/step - loss: 1.6454 - acc: 0.7022\n",
      "Epoch 7/100\n",
      "32561/32561 [==============================] - 2s 74us/step - loss: 1.6394 - acc: 0.7062\n",
      "Epoch 8/100\n",
      "32561/32561 [==============================] - 2s 72us/step - loss: 1.6342 - acc: 0.7100\n",
      "Epoch 9/100\n",
      "32561/32561 [==============================] - 2s 73us/step - loss: 1.6303 - acc: 0.7133\n",
      "Epoch 10/100\n",
      "32561/32561 [==============================] - 2s 74us/step - loss: 1.6240 - acc: 0.7157\n",
      "Epoch 11/100\n",
      "32561/32561 [==============================] - 2s 76us/step - loss: 1.6206 - acc: 0.7174\n",
      "Epoch 12/100\n",
      "32561/32561 [==============================] - 2s 73us/step - loss: 1.6154 - acc: 0.7195\n",
      "Epoch 13/100\n",
      "32561/32561 [==============================] - 3s 78us/step - loss: 1.6107 - acc: 0.7210\n",
      "Epoch 14/100\n",
      "32561/32561 [==============================] - 3s 77us/step - loss: 1.6051 - acc: 0.7279\n",
      "Epoch 15/100\n",
      "32561/32561 [==============================] - 3s 77us/step - loss: 1.6002 - acc: 0.7289\n",
      "Epoch 16/100\n",
      "32561/32561 [==============================] - 2s 76us/step - loss: 1.5952 - acc: 0.7315\n",
      "Epoch 17/100\n",
      "32561/32561 [==============================] - 2s 72us/step - loss: 1.5913 - acc: 0.7342\n",
      "Epoch 18/100\n",
      "32561/32561 [==============================] - 2s 72us/step - loss: 1.5873 - acc: 0.7333\n",
      "Epoch 19/100\n",
      "32561/32561 [==============================] - 2s 71us/step - loss: 1.5841 - acc: 0.7381\n",
      "Epoch 20/100\n",
      "32561/32561 [==============================] - 2s 71us/step - loss: 1.5808 - acc: 0.7390\n",
      "Epoch 21/100\n",
      "32561/32561 [==============================] - 2s 71us/step - loss: 1.5765 - acc: 0.7425\n",
      "Epoch 22/100\n",
      "32561/32561 [==============================] - 2s 71us/step - loss: 1.5740 - acc: 0.7423\n",
      "Epoch 23/100\n",
      "32561/32561 [==============================] - 2s 74us/step - loss: 1.5681 - acc: 0.7451\n",
      "Epoch 24/100\n",
      "32561/32561 [==============================] - 3s 81us/step - loss: 1.5674 - acc: 0.7447\n",
      "Epoch 25/100\n",
      "32561/32561 [==============================] - 2s 75us/step - loss: 1.5620 - acc: 0.7470\n",
      "Epoch 26/100\n",
      "32561/32561 [==============================] - 2s 74us/step - loss: 1.5596 - acc: 0.7493\n",
      "Epoch 27/100\n",
      "32561/32561 [==============================] - 2s 74us/step - loss: 1.5575 - acc: 0.7474\n",
      "Epoch 28/100\n",
      "32561/32561 [==============================] - 2s 75us/step - loss: 1.5551 - acc: 0.7497\n",
      "Epoch 29/100\n",
      "32561/32561 [==============================] - 2s 74us/step - loss: 1.5551 - acc: 0.7517\n",
      "Epoch 30/100\n",
      "32561/32561 [==============================] - 2s 75us/step - loss: 1.5516 - acc: 0.7536\n",
      "Epoch 31/100\n",
      "32561/32561 [==============================] - 2s 72us/step - loss: 1.5476 - acc: 0.7545\n",
      "Epoch 32/100\n",
      "32561/32561 [==============================] - 2s 74us/step - loss: 1.5439 - acc: 0.7568\n",
      "Epoch 33/100\n",
      "32561/32561 [==============================] - 2s 74us/step - loss: 1.5416 - acc: 0.7579\n",
      "Epoch 34/100\n",
      "32561/32561 [==============================] - 2s 72us/step - loss: 1.5391 - acc: 0.7585\n",
      "Epoch 35/100\n",
      "32561/32561 [==============================] - 3s 78us/step - loss: 1.5427 - acc: 0.7559\n",
      "Epoch 36/100\n",
      "32561/32561 [==============================] - 3s 81us/step - loss: 1.5406 - acc: 0.7587\n",
      "Epoch 37/100\n",
      "32561/32561 [==============================] - 3s 80us/step - loss: 1.5377 - acc: 0.7599\n",
      "Epoch 38/100\n",
      "32561/32561 [==============================] - 2s 74us/step - loss: 1.5352 - acc: 0.7608\n",
      "Epoch 39/100\n",
      "32561/32561 [==============================] - 3s 78us/step - loss: 1.5384 - acc: 0.7585\n",
      "Epoch 40/100\n",
      "32561/32561 [==============================] - 3s 77us/step - loss: 1.5339 - acc: 0.7613\n",
      "Epoch 41/100\n",
      "32561/32561 [==============================] - 2s 73us/step - loss: 1.5355 - acc: 0.7589\n",
      "Epoch 42/100\n",
      "32561/32561 [==============================] - 2s 75us/step - loss: 1.5325 - acc: 0.7611\n",
      "Epoch 43/100\n",
      "32561/32561 [==============================] - 2s 72us/step - loss: 1.5279 - acc: 0.7624\n",
      "Epoch 44/100\n",
      "32561/32561 [==============================] - 2s 73us/step - loss: 1.5248 - acc: 0.7636\n",
      "Epoch 45/100\n",
      "32561/32561 [==============================] - 2s 74us/step - loss: 1.5243 - acc: 0.7634\n",
      "Epoch 46/100\n",
      "32561/32561 [==============================] - 2s 73us/step - loss: 1.5253 - acc: 0.7607\n",
      "Epoch 47/100\n",
      "32561/32561 [==============================] - 2s 73us/step - loss: 1.5304 - acc: 0.7622\n",
      "Epoch 48/100\n",
      "32561/32561 [==============================] - 2s 77us/step - loss: 1.5316 - acc: 0.7610\n",
      "Epoch 49/100\n",
      "32561/32561 [==============================] - 2s 76us/step - loss: 1.5293 - acc: 0.7638\n",
      "Epoch 50/100\n",
      "32561/32561 [==============================] - 3s 77us/step - loss: 1.5232 - acc: 0.7643\n",
      "Epoch 51/100\n",
      "32561/32561 [==============================] - 2s 75us/step - loss: 1.5226 - acc: 0.7662\n",
      "Epoch 52/100\n",
      "32561/32561 [==============================] - 2s 73us/step - loss: 1.5277 - acc: 0.7644\n",
      "Epoch 53/100\n",
      "32561/32561 [==============================] - 3s 78us/step - loss: 1.5229 - acc: 0.7660\n",
      "Epoch 54/100\n",
      "32561/32561 [==============================] - 3s 80us/step - loss: 1.5218 - acc: 0.7666\n",
      "Epoch 55/100\n",
      "32561/32561 [==============================] - 2s 73us/step - loss: 1.5158 - acc: 0.7680\n",
      "Epoch 56/100\n",
      "32561/32561 [==============================] - 2s 74us/step - loss: 1.5164 - acc: 0.7672\n",
      "Epoch 57/100\n",
      "32561/32561 [==============================] - 2s 74us/step - loss: 1.5255 - acc: 0.7650\n",
      "Epoch 58/100\n",
      "32561/32561 [==============================] - 2s 75us/step - loss: 1.5196 - acc: 0.7663\n",
      "Epoch 59/100\n",
      "32561/32561 [==============================] - 2s 76us/step - loss: 1.5190 - acc: 0.7677\n",
      "Epoch 60/100\n",
      "32561/32561 [==============================] - 3s 78us/step - loss: 1.5143 - acc: 0.7682\n",
      "Epoch 61/100\n",
      "32561/32561 [==============================] - 3s 77us/step - loss: 1.5136 - acc: 0.7683\n",
      "Epoch 62/100\n",
      "32561/32561 [==============================] - 3s 77us/step - loss: 1.5176 - acc: 0.7674\n",
      "Epoch 63/100\n",
      "32561/32561 [==============================] - 2s 74us/step - loss: 1.5249 - acc: 0.7645\n",
      "Epoch 64/100\n",
      "32561/32561 [==============================] - 3s 81us/step - loss: 1.5179 - acc: 0.7670\n",
      "Epoch 65/100\n",
      "32561/32561 [==============================] - 3s 77us/step - loss: 1.5204 - acc: 0.7664\n",
      "Epoch 66/100\n",
      "32561/32561 [==============================] - 2s 74us/step - loss: 1.5185 - acc: 0.7680\n",
      "Epoch 67/100\n",
      "32561/32561 [==============================] - 2s 74us/step - loss: 1.5138 - acc: 0.7697\n",
      "Epoch 68/100\n",
      "32561/32561 [==============================] - 2s 76us/step - loss: 1.5130 - acc: 0.7694\n",
      "Epoch 69/100\n",
      "32561/32561 [==============================] - 2s 75us/step - loss: 1.5112 - acc: 0.7691\n",
      "Epoch 70/100\n",
      "32561/32561 [==============================] - 2s 75us/step - loss: 1.5105 - acc: 0.7695\n",
      "Epoch 71/100\n",
      "32561/32561 [==============================] - 2s 77us/step - loss: 1.5115 - acc: 0.7693\n",
      "Epoch 72/100\n",
      "32561/32561 [==============================] - 2s 77us/step - loss: 1.5107 - acc: 0.7697\n",
      "Epoch 73/100\n",
      "32561/32561 [==============================] - 2s 75us/step - loss: 1.5176 - acc: 0.7675\n",
      "Epoch 74/100\n",
      "32561/32561 [==============================] - 3s 78us/step - loss: 1.5294 - acc: 0.7652\n",
      "Epoch 75/100\n",
      "32561/32561 [==============================] - 2s 72us/step - loss: 1.5253 - acc: 0.7671\n",
      "Epoch 76/100\n",
      "32561/32561 [==============================] - 2s 72us/step - loss: 1.5121 - acc: 0.7700\n",
      "Epoch 77/100\n",
      "32561/32561 [==============================] - 2s 72us/step - loss: 1.5100 - acc: 0.7692\n",
      "Epoch 78/100\n",
      "32561/32561 [==============================] - 2s 72us/step - loss: 1.5084 - acc: 0.7695\n",
      "Epoch 79/100\n",
      "32561/32561 [==============================] - 2s 71us/step - loss: 1.5082 - acc: 0.7692\n",
      "Epoch 80/100\n",
      "32561/32561 [==============================] - 2s 72us/step - loss: 1.5083 - acc: 0.7712\n",
      "Epoch 81/100\n",
      "32561/32561 [==============================] - 2s 74us/step - loss: 1.5101 - acc: 0.7713\n",
      "Epoch 82/100\n",
      "32561/32561 [==============================] - 2s 73us/step - loss: 1.5115 - acc: 0.7700\n",
      "Epoch 83/100\n",
      "32561/32561 [==============================] - 2s 72us/step - loss: 1.5093 - acc: 0.7697\n",
      "Epoch 84/100\n",
      "32561/32561 [==============================] - 2s 73us/step - loss: 1.5098 - acc: 0.7700\n",
      "Epoch 85/100\n",
      "32561/32561 [==============================] - 2s 73us/step - loss: 1.5107 - acc: 0.7701\n",
      "Epoch 86/100\n",
      "32561/32561 [==============================] - 2s 72us/step - loss: 1.5156 - acc: 0.7684\n",
      "Epoch 87/100\n",
      "32561/32561 [==============================] - 2s 74us/step - loss: 1.5315 - acc: 0.7642\n",
      "Epoch 88/100\n",
      "32561/32561 [==============================] - 2s 72us/step - loss: 1.5139 - acc: 0.7698\n",
      "Epoch 89/100\n",
      "32561/32561 [==============================] - 2s 72us/step - loss: 1.5076 - acc: 0.7715\n",
      "Epoch 90/100\n",
      "32561/32561 [==============================] - 3s 81us/step - loss: 1.5067 - acc: 0.7718\n",
      "Epoch 91/100\n",
      "32561/32561 [==============================] - 2s 74us/step - loss: 1.5053 - acc: 0.7714\n",
      "Epoch 92/100\n",
      "32561/32561 [==============================] - 2s 74us/step - loss: 1.5057 - acc: 0.7725\n",
      "Epoch 93/100\n",
      "32561/32561 [==============================] - 3s 78us/step - loss: 1.5125 - acc: 0.7711\n",
      "Epoch 94/100\n",
      "32561/32561 [==============================] - 3s 79us/step - loss: 1.5237 - acc: 0.7669\n",
      "Epoch 95/100\n",
      "32561/32561 [==============================] - 2s 74us/step - loss: 1.5185 - acc: 0.7699\n",
      "Epoch 96/100\n",
      "32561/32561 [==============================] - 2s 74us/step - loss: 1.5153 - acc: 0.7707\n",
      "Epoch 97/100\n",
      "32561/32561 [==============================] - 2s 74us/step - loss: 1.5176 - acc: 0.7698\n",
      "Epoch 98/100\n",
      "32561/32561 [==============================] - 2s 74us/step - loss: 1.5074 - acc: 0.7729\n",
      "Epoch 99/100\n",
      "32561/32561 [==============================] - 2s 73us/step - loss: 1.5065 - acc: 0.7724\n",
      "Epoch 100/100\n",
      "32561/32561 [==============================] - 2s 73us/step - loss: 1.5059 - acc: 0.7715\n"
     ]
    },
    {
     "data": {
      "text/plain": [
       "<keras.callbacks.History at 0x7f31f31d3b70>"
      ]
     },
     "execution_count": 219,
     "metadata": {},
     "output_type": "execute_result"
    }
   ],
   "source": [
    "# Retrain\n",
    "# Neural Ntework \n",
    "# define a sequential model\n",
    "model_n = Sequential()\n",
    "\n",
    "# add model layers\n",
    "\n",
    "n_cols = dfda_remove.shape[1]\n",
    "\n",
    "model_n.add(Dense(500, activation ='relu', input_dim = n_cols))\n",
    "model_n.add(Dense(500,activation ='relu'))\n",
    "model_n.add(Dense(500, activation='relu'))\n",
    "\n",
    "model_n.add(Dense(1, activation='sigmoid'))\n",
    "\n",
    "# compile model_n using as a measure of performance\n",
    "\n",
    "model_n.compile(optimizer= 'adam', loss ='binary_crossentropy', metrics=['accuracy'])\n",
    "\n",
    "#train model\n",
    "model_n.fit(dfda_remove, A_train, batch_size = 128, epochs = 100)"
   ]
  },
  {
   "cell_type": "code",
   "execution_count": 220,
   "metadata": {
    "collapsed": false
   },
   "outputs": [
    {
     "name": "stdout",
     "output_type": "stream",
     "text": [
      "16281/16281 [==============================] - 0s 30us/step\n"
     ]
    },
    {
     "data": {
      "text/plain": [
       "[2.2110900715259816, 0.6826976230217574]"
      ]
     },
     "execution_count": 220,
     "metadata": {},
     "output_type": "execute_result"
    }
   ],
   "source": [
    "model_n.evaluate(dxtdat_remove, A_test, batch_size = 128)"
   ]
  },
  {
   "cell_type": "markdown",
   "metadata": {},
   "source": [
    "# Report accuracy."
   ]
  },
  {
   "cell_type": "code",
   "execution_count": 221,
   "metadata": {
    "collapsed": false
   },
   "outputs": [
    {
     "data": {
      "text/plain": [
       "0.6826976229961305"
      ]
     },
     "execution_count": 221,
     "metadata": {},
     "output_type": "execute_result"
    }
   ],
   "source": [
    "A_hate1 = model_n.predict_classes(dxtdat_remove)\n",
    "accuracy_score = accuracy(A_test,A_hate1)\n",
    "accuracy_score"
   ]
  },
  {
   "cell_type": "markdown",
   "metadata": {},
   "source": [
    "# Reweighted accuracy on this retrained classifier"
   ]
  },
  {
   "cell_type": "code",
   "execution_count": 222,
   "metadata": {
    "collapsed": false
   },
   "outputs": [
    {
     "data": {
      "text/plain": [
       "0.6455997179987456"
      ]
     },
     "execution_count": 222,
     "metadata": {},
     "output_type": "execute_result"
    }
   ],
   "source": [
    "reweighted_accuracy(A_hate1, A_test)"
   ]
  },
  {
   "cell_type": "markdown",
   "metadata": {},
   "source": [
    "# 3 - Representation Learning"
   ]
  },
  {
   "cell_type": "code",
   "execution_count": 4,
   "metadata": {
    "collapsed": false
   },
   "outputs": [],
   "source": [
    "# Load the Data: train and test\n",
    "adult_train = np.load('adult_train.npz')\n",
    "adult_test = np.load('adult_test.npz')"
   ]
  },
  {
   "cell_type": "code",
   "execution_count": 5,
   "metadata": {
    "collapsed": true
   },
   "outputs": [],
   "source": [
    "x_train = adult_train['x']\n",
    "y_train = adult_train['y']\n",
    "A_train = adult_train['a']\n",
    "x_test = adult_test['x']\n",
    "y_test = adult_test['y']\n",
    "A_test = adult_test['a']"
   ]
  },
  {
   "cell_type": "code",
   "execution_count": 6,
   "metadata": {
    "collapsed": false
   },
   "outputs": [],
   "source": [
    "#Read and associate rows and columns\n",
    "x_train_data = pd.DataFrame(adult_train['x'])\n",
    "x_train_data.head()\n",
    "data_txt = pd.read_csv('adult_headers.txt', header=None) # lire les donnees text\n",
    "data_txt.columns = ['headers']\n",
    "lists = []\n",
    "for header in data_txt['headers']:\n",
    "    lists.append(header)\n",
    "x_train_data.columns = lists[:len(lists)-1]# retirer la derniere ligne\n",
    "#x_train_data.head()"
   ]
  },
  {
   "cell_type": "code",
   "execution_count": 7,
   "metadata": {
    "collapsed": false
   },
   "outputs": [],
   "source": [
    "y_train_data = pd.DataFrame(adult_train['y'])\n",
    "y_train_data.columns = [lists[len(lists)-1]]# associer la derniere ligne a y"
   ]
  },
  {
   "cell_type": "code",
   "execution_count": 8,
   "metadata": {
    "collapsed": false
   },
   "outputs": [],
   "source": [
    "#a = adult_train['a']\n",
    "A_train_data = pd.DataFrame(adult_train['a'])\n",
    "A_train_data.columns = ['A']"
   ]
  },
  {
   "cell_type": "code",
   "execution_count": 9,
   "metadata": {
    "collapsed": false
   },
   "outputs": [],
   "source": [
    "x_test_data = pd.DataFrame(adult_test['x'])\n",
    "x_test_data.head()\n",
    "data_txt = pd.read_csv('adult_headers.txt', header=None)\n",
    "data_txt.columns = ['headers']\n",
    "liste = []\n",
    "for header in data_txt['headers']:\n",
    "    liste.append(header)\n",
    "x_test_data.columns = liste[:len(liste)-1]"
   ]
  },
  {
   "cell_type": "code",
   "execution_count": 10,
   "metadata": {
    "collapsed": false
   },
   "outputs": [],
   "source": [
    "y_test_data = pd.DataFrame(adult_test['y'])\n",
    "y_test_data.columns = [liste[len(liste)-1]]\n",
    "#y_test_data.head()"
   ]
  },
  {
   "cell_type": "code",
   "execution_count": 11,
   "metadata": {
    "collapsed": true
   },
   "outputs": [],
   "source": [
    "#a = adult_train['a']\n",
    "A_test_data = pd.DataFrame(adult_test['a'])\n",
    "A_test_data.columns = ['A']"
   ]
  },
  {
   "cell_type": "code",
   "execution_count": 12,
   "metadata": {
    "collapsed": true
   },
   "outputs": [],
   "source": [
    "data = pd.concat((x_train_data, y_train_data, A_train_data), axis = 1)"
   ]
  },
  {
   "cell_type": "code",
   "execution_count": 13,
   "metadata": {
    "collapsed": true
   },
   "outputs": [],
   "source": [
    "#Helper function\n",
    "\n",
    "class PandasDF(TensorDataset):\n",
    "\n",
    "    def __init__(self, *dataframes):\n",
    "        tensors = (self._df_to_tensor(df) for df in dataframes)\n",
    "        super(PandasDF, self).__init__(*tensors)\n",
    "\n",
    "    def _df_to_tensor(self, df):\n",
    "        if isinstance(df, pd.Series):\n",
    "            df = df.to_frame()\n",
    "        return torch.from_numpy(df.values).float()"
   ]
  },
  {
   "cell_type": "code",
   "execution_count": 14,
   "metadata": {
    "collapsed": true
   },
   "outputs": [],
   "source": [
    "class BinaryClassifier(nn.Module):\n",
    "    def __init__(self, in_features, n_hidden = 128):\n",
    "        super(BinaryClassifier, self).__init__()\n",
    "        \n",
    "        self.linear_network = nn.Sequential(\n",
    "                                    nn.Linear(in_features, n_hidden),\n",
    "                                    nn.ReLU(),\n",
    "                                    nn.Linear(n_hidden, n_hidden),\n",
    "                                    nn.ReLU(),\n",
    "                                    nn.Linear(n_hidden, n_hidden),\n",
    "                                    nn.ReLU(),\n",
    "                                    nn.Linear(n_hidden, n_hidden),\n",
    "                                    nn.ReLU(),\n",
    "                                    nn.Linear(n_hidden, 1))\n",
    "        \n",
    "    def forward(self, x):\n",
    "        return self.linear_network(x)"
   ]
  },
  {
   "cell_type": "code",
   "execution_count": 15,
   "metadata": {
    "collapsed": true
   },
   "outputs": [],
   "source": [
    "def train_model(model, criterion, optimizer, dataloader, num_epoch, alpha, withMMD = False):\n",
    "    model.train()\n",
    "    \n",
    "    for epoch in tqdm(range(num_epoch)):\n",
    "        train_loss = 0.\n",
    "        for i, (data, label, a) in enumerate(dataloader):\n",
    "            \n",
    "            output = model(data)\n",
    "            if withMMD:\n",
    "                 loss = criterion(output, label) + alpha * MMD_torch(output, a)\n",
    "            else:\n",
    "                loss = criterion(output, label)\n",
    "            \n",
    "            optimizer.zero_grad()\n",
    "            loss.backward()\n",
    "            optimizer.step()\n",
    "            \n",
    "            train_loss += loss.item() * len(data)/ float(len(dataloader.dataset))\n",
    "        \n",
    "        \n",
    "        if epoch % 50 == 0:\n",
    "            print(\"Epoch: \", epoch, \"Loss: \", [train_loss])\n",
    "        \n",
    "    print(\"Training Loss: \", train_loss)\n",
    "    \n",
    "    print(\"Done Training\")\n",
    "\n",
    "    \n",
    "def test_model(model, dataloader):\n",
    "    model.eval()\n",
    "    \n",
    "    with torch.no_grad():\n",
    "        accuracy = 0\n",
    "        n_A_0 = 0\n",
    "        n_A_1 = 0\n",
    "        dp_A_0 = 0\n",
    "        dp_A_1 = 0\n",
    "        for i, (data, label, sensitive) in enumerate(dataloader):\n",
    "\n",
    "                output = model(data)\n",
    "                predicted = torch.tensor((output.squeeze() > 0.).long()).reshape((-1,1))\n",
    "                \n",
    "                for item in range(len(sensitive)):\n",
    "                    if sensitive[item] == 0:\n",
    "                        n_A_0 += 1\n",
    "                        dp_A_0 += predicted[item].item()\n",
    "                    else:\n",
    "                        n_A_1 += 1\n",
    "                        dp_A_1 += predicted[item].item()\n",
    "                \n",
    "                accuracy += np.equal(predicted, label).sum().item()\n",
    "        \n",
    "        mean_dif = dp_A_0 / n_A_0 - dp_A_1 / n_A_1\n",
    "            \n",
    "        print(\"Test accuracy is: \", accuracy / len(dataloader.dataset))\n",
    "        print(\"Mean difference: \", mean_dif)\n",
    "        print(\"Demographic parity is: \", np.abs(mean_dif))\n",
    "        \n",
    "    return accuracy / len(dataloader.dataset) , np.abs(mean_dif)"
   ]
  },
  {
   "cell_type": "code",
   "execution_count": 41,
   "metadata": {
    "collapsed": true
   },
   "outputs": [],
   "source": [
    "def train_model_(model, criterion, optimizer, dataloader, num_epoch, alpha, withMMD = False):\n",
    "    model.train()\n",
    "    \n",
    "    for epoch in tqdm(range(num_epoch)):\n",
    "        train_loss = 0.\n",
    "        for i, (data, _, label) in enumerate(dataloader):\n",
    "            \n",
    "            output = model(data)\n",
    "            if withMMD:\n",
    "                loss = criterion(output, label) + alpha * MMD_torch(output, label)\n",
    "            else:\n",
    "                loss = criterion(output, label)\n",
    "            \n",
    "            optimizer.zero_grad()\n",
    "            loss.backward()\n",
    "            optimizer.step()\n",
    "            \n",
    "            train_loss += loss.item() * len(data)/ float(len(dataloader.dataset))\n",
    "        \n",
    "        \n",
    "        if epoch % 50 == 0:\n",
    "            print(\"Epoch: \", epoch, \"Loss: \", [train_loss])\n",
    "        \n",
    "    print(\"Training Loss: \", train_loss)\n",
    "    \n",
    "    print(\"Done Training\")\n",
    "\n",
    "    \n",
    "def test_model_(model, dataloader):\n",
    "    model.eval()\n",
    "    \n",
    "    with torch.no_grad():\n",
    "        accuracy = 0\n",
    "        n_A_0 = 0\n",
    "        n_A_1 = 0\n",
    "        sum_0 = 0\n",
    "        sum_1 = 0\n",
    "        for i, (data, _, sensitive) in enumerate(dataloader):\n",
    "\n",
    "                output = model(data)\n",
    "                predicted = torch.tensor((output.squeeze() > 0.).long()).reshape((-1,1))\n",
    "                \n",
    "                for item in range(len(sensitive)):\n",
    "                    if sensitive[item] == 0:\n",
    "                        n_A_0 += 1\n",
    "                        sum_0 += predicted[item].item() == sensitive[item].item()\n",
    "                    else:\n",
    "                        n_A_1 += 1\n",
    "                        sum_1 += predicted[item].item() == sensitive[item].item()\n",
    "                \n",
    "                accuracy += np.equal(predicted, sensitive).sum().item()\n",
    "        racc = 0.5 * (sum_0 / n_A_0 + sum_1 / n_A_1)\n",
    "            \n",
    "        print(\"Test accuracy is: \", accuracy / len(dataloader.dataset))\n",
    "        print(\"Reweighted accuracy is: \", racc)"
   ]
  },
  {
   "cell_type": "markdown",
   "metadata": {},
   "source": [
    "## 1- For each feature, fit a Gaussian to that feature for each group – this should give us two Gaussians for each feature."
   ]
  },
  {
   "cell_type": "code",
   "execution_count": 23,
   "metadata": {
    "collapsed": false
   },
   "outputs": [],
   "source": [
    "x_train_A0 = data[data.A !=1].drop(labels =['income', 'A'], axis=1)\n",
    "x_train_A1 = data[data.A !=0].drop(labels =['income', 'A'], axis=1)"
   ]
  },
  {
   "cell_type": "code",
   "execution_count": 24,
   "metadata": {
    "collapsed": false
   },
   "outputs": [],
   "source": [
    "#fit gaussian for A = 0\n",
    "Gaussian_0 = GaussianMixture(covariance_type = \"diag\")\n",
    "Gaussian_0.fit(x_train_A0)\n",
    "\n",
    "#fit gaussian for A = 1\n",
    "Gaussian_1 = GaussianMixture(covariance_type = \"diag\")\n",
    "Gaussian_1.fit(x_train_A1)\n",
    "\n",
    "\n",
    "# compute the mean and covariance of gaussian\n",
    "mean_A0 = Gaussian_0.means_\n",
    "cov_A_0 = Gaussian_0.covariances_[0]\n",
    "\n",
    "mean_A1 = Gaussian_1.means_\n",
    "cov_A_1 = Gaussian_1.covariances_[0]"
   ]
  },
  {
   "cell_type": "code",
   "execution_count": 25,
   "metadata": {
    "collapsed": false
   },
   "outputs": [],
   "source": [
    "# Pre-processing the data with learned gaussian means and variances\n",
    "x_train_data_ = x_train_data.copy()\n",
    "for row in range(x_train_data.shape[0]):\n",
    "    if A_train_data.iloc[row].values[0] == 0:\n",
    "        x_train_data_.iloc[row, ] = (x_train_data.iloc[row, ].values.copy() - mean_A0) /np.sqrt(cov_A_0)\n",
    "    else:\n",
    "        x_train_data_.iloc[row, ] = (x_train_data.iloc[row, ].values.copy() - mean_A1) /np.sqrt(cov_A_1)"
   ]
  },
  {
   "cell_type": "code",
   "execution_count": 26,
   "metadata": {
    "collapsed": false
   },
   "outputs": [],
   "source": [
    "data_ = pd.concat((x_train_data, A_train_data), axis = 1)\n",
    "\n",
    "# get the features for A = 0\n",
    "x_train_A0_ = data_[data_.A != 1].drop(labels = ['A'],axis=1)\n",
    "\n",
    "# get the features for A = 1\n",
    "x_train_A1_ = data_[data_.A != 0].drop(labels= ['A'],axis=1)\n",
    "\n",
    "#assert\n",
    "np.testing.assert_array_almost_equal(x_train_A0_.mean(axis = 0).values, x_train_A0_.mean(axis = 0).values, 5)"
   ]
  },
  {
   "cell_type": "code",
   "execution_count": 27,
   "metadata": {
    "collapsed": false
   },
   "outputs": [],
   "source": [
    "train_data_t  = PandasDF(x_train_data_, y_train_data, A_train_data)\n",
    "train_loader_ = DataLoader(train_data_t, batch_size = 64, shuffle = True, drop_last = True) "
   ]
  },
  {
   "cell_type": "code",
   "execution_count": 28,
   "metadata": {
    "collapsed": false
   },
   "outputs": [
    {
     "name": "stderr",
     "output_type": "stream",
     "text": [
      "  0%|          | 1/200 [00:01<04:35,  1.38s/it]"
     ]
    },
    {
     "name": "stdout",
     "output_type": "stream",
     "text": [
      "Epoch:  0 Loss:  [0.3635145597246128]\n"
     ]
    },
    {
     "name": "stderr",
     "output_type": "stream",
     "text": [
      " 26%|██▌       | 51/200 [01:23<04:19,  1.74s/it]"
     ]
    },
    {
     "name": "stdout",
     "output_type": "stream",
     "text": [
      "Epoch:  50 Loss:  [0.16931600299903277]\n"
     ]
    },
    {
     "name": "stderr",
     "output_type": "stream",
     "text": [
      " 50%|█████     | 101/200 [02:52<02:57,  1.79s/it]"
     ]
    },
    {
     "name": "stdout",
     "output_type": "stream",
     "text": [
      "Epoch:  100 Loss:  [0.14476362878576776]\n"
     ]
    },
    {
     "name": "stderr",
     "output_type": "stream",
     "text": [
      " 76%|███████▌  | 151/200 [04:24<01:32,  1.88s/it]"
     ]
    },
    {
     "name": "stdout",
     "output_type": "stream",
     "text": [
      "Epoch:  150 Loss:  [0.13514721995105014]\n"
     ]
    },
    {
     "name": "stderr",
     "output_type": "stream",
     "text": [
      "100%|██████████| 200/200 [05:54<00:00,  1.78s/it]"
     ]
    },
    {
     "name": "stdout",
     "output_type": "stream",
     "text": [
      "Training Loss:  0.12611190760400345\n",
      "Done Training\n"
     ]
    },
    {
     "name": "stderr",
     "output_type": "stream",
     "text": [
      "\n"
     ]
    }
   ],
   "source": [
    "# learn a classifier g to predict Y from this pre-processed data\n",
    "\n",
    "in_features = train_loader_.dataset.tensors[0].shape[-1]\n",
    "g = BinaryClassifier(in_features)\n",
    "criterion = nn.BCEWithLogitsLoss()\n",
    "optimizer = optim.Adam(g.parameters())\n",
    "num_epoch = 200\n",
    "\n",
    "train_model(g, criterion, optimizer, train_loader_, num_epoch, 0, False)"
   ]
  },
  {
   "cell_type": "code",
   "execution_count": 29,
   "metadata": {
    "collapsed": false
   },
   "outputs": [],
   "source": [
    "data_test = pd.concat((x_test_data, y_test_data, A_test_data), axis = 1)"
   ]
  },
  {
   "cell_type": "code",
   "execution_count": 30,
   "metadata": {
    "collapsed": true
   },
   "outputs": [],
   "source": [
    "x_test_A0 = data_test[data_test.A != 1].drop(labels = ['income','A'],axis=1)\n",
    "x_test_A1 = data_test[data_test.A != 0].drop(labels = ['income', 'A'],axis=1)"
   ]
  },
  {
   "cell_type": "code",
   "execution_count": 31,
   "metadata": {
    "collapsed": false
   },
   "outputs": [],
   "source": [
    "#fit gaussian for A = 0\n",
    "Gaussian_0 = GaussianMixture(covariance_type = \"diag\")\n",
    "Gaussian_0.fit(x_test_A0)\n",
    "\n",
    "#fit gaussian for A = 1\n",
    "Gaussian_1 = GaussianMixture(covariance_type = \"diag\")\n",
    "Gaussian_1.fit(x_test_A1)\n",
    "\n",
    "\n",
    "# compute the mean and covariance of gaussian\n",
    "mean_test_A0 = Gaussian_0.means_\n",
    "cov_test_A0 = Gaussian_0.covariances_[0]\n",
    "\n",
    "mean_test_A1 = Gaussian_1.means_\n",
    "cov_test_A1 = Gaussian_1.covariances_[0]"
   ]
  },
  {
   "cell_type": "code",
   "execution_count": 32,
   "metadata": {
    "collapsed": true
   },
   "outputs": [],
   "source": [
    "# Pre-processing the data with learned gaussian means and variances\n",
    "x_test_data_ = x_test_data.copy()\n",
    "for row in range(x_test_data.shape[0]):\n",
    "    if A_test_data.iloc[row].values[0] == 0:\n",
    "        x_test_data_.iloc[row, ] = (x_test_data.iloc[row, ].values.copy() - mean_test_A0) /np.sqrt(cov_test_A0)\n",
    "    else:\n",
    "        x_test_data_.iloc[row, ] = (x_test_data.iloc[row, ].values.copy() - mean_test_A1) /np.sqrt(cov_test_A1)"
   ]
  },
  {
   "cell_type": "code",
   "execution_count": 37,
   "metadata": {
    "collapsed": true
   },
   "outputs": [],
   "source": [
    "test_data_t  = PandasDF(x_test_data_, y_test_data, A_test_data)\n",
    "test_loader_ = DataLoader(test_data_t, batch_size = 64, shuffle = True, drop_last = False) "
   ]
  },
  {
   "cell_type": "code",
   "execution_count": 39,
   "metadata": {
    "collapsed": false
   },
   "outputs": [
    {
     "name": "stdout",
     "output_type": "stream",
     "text": [
      "Test accuracy is:  0.8283274983109146\n",
      "Mean difference:  -0.17053936960928495\n",
      "Demographic parity is:  0.17053936960928495\n"
     ]
    },
    {
     "data": {
      "text/plain": [
       "(0.8283274983109146, 0.17053936960928495)"
      ]
     },
     "execution_count": 39,
     "metadata": {},
     "output_type": "execute_result"
    }
   ],
   "source": [
    "test_model(g, test_loader_)"
   ]
  },
  {
   "cell_type": "code",
   "execution_count": 40,
   "metadata": {
    "collapsed": false
   },
   "outputs": [
    {
     "name": "stderr",
     "output_type": "stream",
     "text": [
      "  0%|          | 1/200 [00:01<04:37,  1.39s/it]"
     ]
    },
    {
     "name": "stdout",
     "output_type": "stream",
     "text": [
      "Epoch:  0 Loss:  [0.16290298974834394]\n"
     ]
    },
    {
     "name": "stderr",
     "output_type": "stream",
     "text": [
      " 26%|██▌       | 51/200 [01:35<05:43,  2.30s/it]"
     ]
    },
    {
     "name": "stdout",
     "output_type": "stream",
     "text": [
      "Epoch:  50 Loss:  [9.152765591629338e-11]\n"
     ]
    },
    {
     "name": "stderr",
     "output_type": "stream",
     "text": [
      " 50%|█████     | 101/200 [03:30<03:38,  2.21s/it]"
     ]
    },
    {
     "name": "stdout",
     "output_type": "stream",
     "text": [
      "Epoch:  100 Loss:  [1.6511572927422475e-09]\n"
     ]
    },
    {
     "name": "stderr",
     "output_type": "stream",
     "text": [
      " 76%|███████▌  | 151/200 [05:33<02:08,  2.63s/it]"
     ]
    },
    {
     "name": "stdout",
     "output_type": "stream",
     "text": [
      "Epoch:  150 Loss:  [1.8488543016492242e-08]\n"
     ]
    },
    {
     "name": "stderr",
     "output_type": "stream",
     "text": [
      "100%|██████████| 200/200 [08:06<00:00,  3.43s/it]"
     ]
    },
    {
     "name": "stdout",
     "output_type": "stream",
     "text": [
      "Training Loss:  0.0\n",
      "Done Training\n"
     ]
    },
    {
     "name": "stderr",
     "output_type": "stream",
     "text": [
      "\n"
     ]
    }
   ],
   "source": [
    "# learn a classifier h to predict A from this preprocessed data\n",
    "\n",
    "in_features = train_loader_.dataset.tensors[0].shape[-1]\n",
    "h = BinaryClassifier(in_features)\n",
    "criterion = nn.BCEWithLogitsLoss()\n",
    "optimizer = optim.Adam(h.parameters())\n",
    "num_epoch = 200\n",
    "\n",
    "train_model_(h, criterion, optimizer, train_loader_, num_epoch, 0, False)"
   ]
  },
  {
   "cell_type": "code",
   "execution_count": 42,
   "metadata": {
    "collapsed": false
   },
   "outputs": [
    {
     "name": "stdout",
     "output_type": "stream",
     "text": [
      "Test accuracy is:  0.9996928935569068\n",
      "Reweighted accuracy is:  0.9996774106426716\n"
     ]
    }
   ],
   "source": [
    "test_model_(h, test_loader_)"
   ]
  },
  {
   "cell_type": "markdown",
   "metadata": {},
   "source": [
    "# 2- Train a neural network with at least one hidden layer as your binary classifier"
   ]
  },
  {
   "cell_type": "code",
   "execution_count": 43,
   "metadata": {
    "collapsed": true
   },
   "outputs": [],
   "source": [
    "train_data_t  = PandasDF(x_train_data, y_train_data, A_train_data)\n",
    "train_loader = DataLoader(train_data_t, batch_size = 64, shuffle = True, drop_last = True) "
   ]
  },
  {
   "cell_type": "code",
   "execution_count": 47,
   "metadata": {
    "collapsed": false
   },
   "outputs": [
    {
     "name": "stderr",
     "output_type": "stream",
     "text": [
      "  0%|          | 1/200 [00:02<07:33,  2.28s/it]"
     ]
    },
    {
     "name": "stdout",
     "output_type": "stream",
     "text": [
      "Epoch:  0 Loss:  [0.46374449415503616]\n"
     ]
    },
    {
     "name": "stderr",
     "output_type": "stream",
     "text": [
      " 26%|██▌       | 51/200 [02:46<08:35,  3.46s/it]"
     ]
    },
    {
     "name": "stdout",
     "output_type": "stream",
     "text": [
      "Epoch:  50 Loss:  [0.28273984660336676]\n"
     ]
    },
    {
     "name": "stderr",
     "output_type": "stream",
     "text": [
      " 50%|█████     | 101/200 [05:44<06:01,  3.65s/it]"
     ]
    },
    {
     "name": "stdout",
     "output_type": "stream",
     "text": [
      "Epoch:  100 Loss:  [0.23803637224781218]\n"
     ]
    },
    {
     "name": "stderr",
     "output_type": "stream",
     "text": [
      " 76%|███████▌  | 151/200 [08:55<03:09,  3.88s/it]"
     ]
    },
    {
     "name": "stdout",
     "output_type": "stream",
     "text": [
      "Epoch:  150 Loss:  [0.2110540338261248]\n"
     ]
    },
    {
     "name": "stderr",
     "output_type": "stream",
     "text": [
      "100%|██████████| 200/200 [12:12<00:00,  4.01s/it]"
     ]
    },
    {
     "name": "stdout",
     "output_type": "stream",
     "text": [
      "Training Loss:  0.19884503257863706\n",
      "Done Training\n"
     ]
    },
    {
     "name": "stderr",
     "output_type": "stream",
     "text": [
      "\n"
     ]
    }
   ],
   "source": [
    "# predicting Y with MMD\n",
    "\n",
    "in_features = train_loader.dataset.tensors[0].shape[-1]\n",
    "model = BinaryClassifier(in_features)\n",
    "criterion = nn.BCEWithLogitsLoss()\n",
    "optimizer = optim.Adam(model.parameters())\n",
    "num_epoch = 200\n",
    "alpha = 0.1\n",
    "train_model(model, criterion, optimizer, train_loader, num_epoch, alpha, True)"
   ]
  },
  {
   "cell_type": "code",
   "execution_count": 49,
   "metadata": {
    "collapsed": false
   },
   "outputs": [],
   "source": [
    "test_data_t  = PandasDF(x_test_data, y_test_data, A_test_data)\n",
    "test_loader = DataLoader(test_data_t, batch_size = 64, shuffle = True, drop_last = False) "
   ]
  },
  {
   "cell_type": "code",
   "execution_count": 51,
   "metadata": {
    "collapsed": false
   },
   "outputs": [
    {
     "name": "stderr",
     "output_type": "stream",
     "text": [
      "  0%|          | 1/200 [00:02<07:19,  2.21s/it]"
     ]
    },
    {
     "name": "stdout",
     "output_type": "stream",
     "text": [
      "Epoch:  0 Loss:  [0.2676047471278326]\n"
     ]
    },
    {
     "name": "stderr",
     "output_type": "stream",
     "text": [
      " 26%|██▌       | 51/200 [02:52<09:17,  3.74s/it]"
     ]
    },
    {
     "name": "stdout",
     "output_type": "stream",
     "text": [
      "Epoch:  50 Loss:  [0.0525916479849441]\n"
     ]
    },
    {
     "name": "stderr",
     "output_type": "stream",
     "text": [
      " 50%|█████     | 101/200 [06:28<07:34,  4.59s/it]"
     ]
    },
    {
     "name": "stdout",
     "output_type": "stream",
     "text": [
      "Epoch:  100 Loss:  [0.05251583257554324]\n"
     ]
    },
    {
     "name": "stderr",
     "output_type": "stream",
     "text": [
      " 76%|███████▌  | 151/200 [10:39<04:10,  5.12s/it]"
     ]
    },
    {
     "name": "stdout",
     "output_type": "stream",
     "text": [
      "Epoch:  150 Loss:  [0.05880636581148543]\n"
     ]
    },
    {
     "name": "stderr",
     "output_type": "stream",
     "text": [
      "100%|██████████| 200/200 [15:13<00:00,  5.65s/it]"
     ]
    },
    {
     "name": "stdout",
     "output_type": "stream",
     "text": [
      "Training Loss:  0.05219067713925171\n",
      "Done Training\n"
     ]
    },
    {
     "name": "stderr",
     "output_type": "stream",
     "text": [
      "\n"
     ]
    }
   ],
   "source": [
    "# predicting A with MMD\n",
    "in_features = train_loader.dataset.tensors[0].shape[-1]\n",
    "model1 = BinaryClassifier(in_features)\n",
    "criterion = nn.BCEWithLogitsLoss()\n",
    "optimizer = optim.Adam(model1.parameters())\n",
    "num_epoch = 200\n",
    "alpha = 0.1\n",
    "train_model_(model1, criterion, optimizer, train_loader, num_epoch, alpha, True)"
   ]
  },
  {
   "cell_type": "code",
   "execution_count": 52,
   "metadata": {
    "collapsed": false
   },
   "outputs": [
    {
     "name": "stdout",
     "output_type": "stream",
     "text": [
      "Test accuracy is:  0.9807751366623672\n",
      "Reweighted accuracy is:  0.9711307876775503\n"
     ]
    }
   ],
   "source": [
    "test_model_(model1, test_loader)"
   ]
  },
  {
   "cell_type": "markdown",
   "metadata": {},
   "source": [
    "# 3- Try to find the useful range of the hyperparameter alpha"
   ]
  },
  {
   "cell_type": "code",
   "execution_count": 54,
   "metadata": {
    "collapsed": true
   },
   "outputs": [],
   "source": [
    "alpha_range = np.array([0.0001, 0.0005, 0.001, 0.005, 0.01, 0.05, 0.1, 0.5, 1.0, 5.0, 10.0])\n",
    "criterion = nn.BCEWithLogitsLoss()\n",
    "in_features = train_loader.dataset.tensors[0].shape[-1]"
   ]
  },
  {
   "cell_type": "code",
   "execution_count": 58,
   "metadata": {
    "collapsed": false,
    "scrolled": true
   },
   "outputs": [
    {
     "name": "stderr",
     "output_type": "stream",
     "text": [
      "\r",
      "  0%|          | 0/100 [00:00<?, ?it/s]"
     ]
    },
    {
     "name": "stdout",
     "output_type": "stream",
     "text": [
      "for value of alpha= 0.0001\n"
     ]
    },
    {
     "name": "stderr",
     "output_type": "stream",
     "text": [
      "\r",
      "  1%|          | 1/100 [00:02<03:34,  2.17s/it]"
     ]
    },
    {
     "name": "stdout",
     "output_type": "stream",
     "text": [
      "Epoch:  0 Loss:  [0.41305898572247474]\n"
     ]
    },
    {
     "name": "stderr",
     "output_type": "stream",
     "text": [
      " 51%|█████     | 51/100 [02:41<02:41,  3.29s/it]"
     ]
    },
    {
     "name": "stdout",
     "output_type": "stream",
     "text": [
      "Epoch:  50 Loss:  [0.2596730483712854]\n"
     ]
    },
    {
     "name": "stderr",
     "output_type": "stream",
     "text": [
      "100%|██████████| 100/100 [05:26<00:00,  3.37s/it]\n"
     ]
    },
    {
     "name": "stdout",
     "output_type": "stream",
     "text": [
      "Training Loss:  0.2179871876604936\n",
      "Done Training\n"
     ]
    },
    {
     "name": "stderr",
     "output_type": "stream",
     "text": [
      "\r",
      "  0%|          | 0/100 [00:00<?, ?it/s]"
     ]
    },
    {
     "name": "stdout",
     "output_type": "stream",
     "text": [
      "Test accuracy is:  0.8430071862907684\n",
      "Mean difference:  -0.18214738876132414\n",
      "Demographic parity is:  0.18214738876132414\n",
      "for value of alpha= 0.0005\n"
     ]
    },
    {
     "name": "stderr",
     "output_type": "stream",
     "text": [
      "\r",
      "  1%|          | 1/100 [00:03<05:07,  3.11s/it]"
     ]
    },
    {
     "name": "stdout",
     "output_type": "stream",
     "text": [
      "Epoch:  0 Loss:  [0.4463782340506914]\n"
     ]
    },
    {
     "name": "stderr",
     "output_type": "stream",
     "text": [
      " 51%|█████     | 51/100 [02:54<02:46,  3.40s/it]"
     ]
    },
    {
     "name": "stdout",
     "output_type": "stream",
     "text": [
      "Epoch:  50 Loss:  [0.26234187740376197]\n"
     ]
    },
    {
     "name": "stderr",
     "output_type": "stream",
     "text": [
      "100%|██████████| 100/100 [05:49<00:00,  3.24s/it]\n"
     ]
    },
    {
     "name": "stdout",
     "output_type": "stream",
     "text": [
      "Training Loss:  0.2201583548972547\n",
      "Done Training\n"
     ]
    },
    {
     "name": "stderr",
     "output_type": "stream",
     "text": [
      "\r",
      "  0%|          | 0/100 [00:00<?, ?it/s]"
     ]
    },
    {
     "name": "stdout",
     "output_type": "stream",
     "text": [
      "Test accuracy is:  0.8471838339168356\n",
      "Mean difference:  -0.18364636807341211\n",
      "Demographic parity is:  0.18364636807341211\n",
      "for value of alpha= 0.001\n"
     ]
    },
    {
     "name": "stderr",
     "output_type": "stream",
     "text": [
      "\r",
      "  1%|          | 1/100 [00:02<04:41,  2.85s/it]"
     ]
    },
    {
     "name": "stdout",
     "output_type": "stream",
     "text": [
      "Epoch:  0 Loss:  [0.43642122769457525]\n"
     ]
    },
    {
     "name": "stderr",
     "output_type": "stream",
     "text": [
      " 51%|█████     | 51/100 [02:55<02:41,  3.30s/it]"
     ]
    },
    {
     "name": "stdout",
     "output_type": "stream",
     "text": [
      "Epoch:  50 Loss:  [0.26018453967472055]\n"
     ]
    },
    {
     "name": "stderr",
     "output_type": "stream",
     "text": [
      "100%|██████████| 100/100 [05:29<00:00,  3.24s/it]\n"
     ]
    },
    {
     "name": "stdout",
     "output_type": "stream",
     "text": [
      "Training Loss:  0.21818872281731158\n",
      "Done Training\n"
     ]
    },
    {
     "name": "stderr",
     "output_type": "stream",
     "text": [
      "\r",
      "  0%|          | 0/100 [00:00<?, ?it/s]"
     ]
    },
    {
     "name": "stdout",
     "output_type": "stream",
     "text": [
      "Test accuracy is:  0.8459554081444629\n",
      "Mean difference:  -0.18714300128108308\n",
      "Demographic parity is:  0.18714300128108308\n",
      "for value of alpha= 0.005\n"
     ]
    },
    {
     "name": "stderr",
     "output_type": "stream",
     "text": [
      "\r",
      "  1%|          | 1/100 [00:02<04:15,  2.58s/it]"
     ]
    },
    {
     "name": "stdout",
     "output_type": "stream",
     "text": [
      "Epoch:  0 Loss:  [0.4453488151306841]\n"
     ]
    },
    {
     "name": "stderr",
     "output_type": "stream",
     "text": [
      " 51%|█████     | 51/100 [02:51<03:11,  3.91s/it]"
     ]
    },
    {
     "name": "stdout",
     "output_type": "stream",
     "text": [
      "Epoch:  50 Loss:  [0.2643031868806201]\n"
     ]
    },
    {
     "name": "stderr",
     "output_type": "stream",
     "text": [
      "100%|██████████| 100/100 [05:49<00:00,  3.94s/it]\n"
     ]
    },
    {
     "name": "stdout",
     "output_type": "stream",
     "text": [
      "Training Loss:  0.2227200266660379\n",
      "Done Training\n"
     ]
    },
    {
     "name": "stderr",
     "output_type": "stream",
     "text": [
      "\r",
      "  0%|          | 0/100 [00:00<?, ?it/s]"
     ]
    },
    {
     "name": "stdout",
     "output_type": "stream",
     "text": [
      "Test accuracy is:  0.8387076960874639\n",
      "Mean difference:  -0.19410997338975397\n",
      "Demographic parity is:  0.19410997338975397\n",
      "for value of alpha= 0.01\n"
     ]
    },
    {
     "name": "stderr",
     "output_type": "stream",
     "text": [
      "\r",
      "  1%|          | 1/100 [00:02<04:44,  2.87s/it]"
     ]
    },
    {
     "name": "stdout",
     "output_type": "stream",
     "text": [
      "Epoch:  0 Loss:  [0.43097331303423436]\n"
     ]
    },
    {
     "name": "stderr",
     "output_type": "stream",
     "text": [
      " 51%|█████     | 51/100 [02:57<02:38,  3.23s/it]"
     ]
    },
    {
     "name": "stdout",
     "output_type": "stream",
     "text": [
      "Epoch:  50 Loss:  [0.262073533598927]\n"
     ]
    },
    {
     "name": "stderr",
     "output_type": "stream",
     "text": [
      "100%|██████████| 100/100 [05:39<00:00,  3.19s/it]\n"
     ]
    },
    {
     "name": "stdout",
     "output_type": "stream",
     "text": [
      "Training Loss:  0.21804588164163177\n",
      "Done Training\n"
     ]
    },
    {
     "name": "stderr",
     "output_type": "stream",
     "text": [
      "\r",
      "  0%|          | 0/100 [00:00<?, ?it/s]"
     ]
    },
    {
     "name": "stdout",
     "output_type": "stream",
     "text": [
      "Test accuracy is:  0.843252871445243\n",
      "Mean difference:  -0.18667311794423364\n",
      "Demographic parity is:  0.18667311794423364\n",
      "for value of alpha= 0.05\n"
     ]
    },
    {
     "name": "stderr",
     "output_type": "stream",
     "text": [
      "\r",
      "  1%|          | 1/100 [00:02<04:54,  2.97s/it]"
     ]
    },
    {
     "name": "stdout",
     "output_type": "stream",
     "text": [
      "Epoch:  0 Loss:  [0.43765831081518897]\n"
     ]
    },
    {
     "name": "stderr",
     "output_type": "stream",
     "text": [
      " 51%|█████     | 51/100 [02:42<02:35,  3.17s/it]"
     ]
    },
    {
     "name": "stdout",
     "output_type": "stream",
     "text": [
      "Epoch:  50 Loss:  [0.2675338274855376]\n"
     ]
    },
    {
     "name": "stderr",
     "output_type": "stream",
     "text": [
      "100%|██████████| 100/100 [05:25<00:00,  3.34s/it]\n"
     ]
    },
    {
     "name": "stdout",
     "output_type": "stream",
     "text": [
      "Training Loss:  0.224516600422578\n",
      "Done Training\n"
     ]
    },
    {
     "name": "stderr",
     "output_type": "stream",
     "text": [
      "\r",
      "  0%|          | 0/100 [00:00<?, ?it/s]"
     ]
    },
    {
     "name": "stdout",
     "output_type": "stream",
     "text": [
      "Test accuracy is:  0.8441741907745225\n",
      "Mean difference:  -0.17112243057232923\n",
      "Demographic parity is:  0.17112243057232923\n",
      "for value of alpha= 0.1\n"
     ]
    },
    {
     "name": "stderr",
     "output_type": "stream",
     "text": [
      "\r",
      "  1%|          | 1/100 [00:02<04:14,  2.57s/it]"
     ]
    },
    {
     "name": "stdout",
     "output_type": "stream",
     "text": [
      "Epoch:  0 Loss:  [0.4661104288906927]\n"
     ]
    },
    {
     "name": "stderr",
     "output_type": "stream",
     "text": [
      " 51%|█████     | 51/100 [02:43<02:39,  3.26s/it]"
     ]
    },
    {
     "name": "stdout",
     "output_type": "stream",
     "text": [
      "Epoch:  50 Loss:  [0.2825929822963053]\n"
     ]
    },
    {
     "name": "stderr",
     "output_type": "stream",
     "text": [
      "100%|██████████| 100/100 [05:26<00:00,  3.39s/it]\n"
     ]
    },
    {
     "name": "stdout",
     "output_type": "stream",
     "text": [
      "Training Loss:  0.23743363487892916\n",
      "Done Training\n"
     ]
    },
    {
     "name": "stderr",
     "output_type": "stream",
     "text": [
      "\r",
      "  0%|          | 0/100 [00:00<?, ?it/s]"
     ]
    },
    {
     "name": "stdout",
     "output_type": "stream",
     "text": [
      "Test accuracy is:  0.8427615011362939\n",
      "Mean difference:  -0.1907259063127738\n",
      "Demographic parity is:  0.1907259063127738\n",
      "for value of alpha= 0.5\n"
     ]
    },
    {
     "name": "stderr",
     "output_type": "stream",
     "text": [
      "\r",
      "  1%|          | 1/100 [00:02<04:25,  2.68s/it]"
     ]
    },
    {
     "name": "stdout",
     "output_type": "stream",
     "text": [
      "Epoch:  0 Loss:  [0.48763957617744985]\n"
     ]
    },
    {
     "name": "stderr",
     "output_type": "stream",
     "text": [
      " 51%|█████     | 51/100 [02:59<03:06,  3.81s/it]"
     ]
    },
    {
     "name": "stdout",
     "output_type": "stream",
     "text": [
      "Epoch:  50 Loss:  [0.3335011117504692]\n"
     ]
    },
    {
     "name": "stderr",
     "output_type": "stream",
     "text": [
      "100%|██████████| 100/100 [06:04<00:00,  3.97s/it]\n"
     ]
    },
    {
     "name": "stdout",
     "output_type": "stream",
     "text": [
      "Training Loss:  0.30880891050659315\n",
      "Done Training\n"
     ]
    },
    {
     "name": "stderr",
     "output_type": "stream",
     "text": [
      "\r",
      "  0%|          | 0/100 [00:00<?, ?it/s]"
     ]
    },
    {
     "name": "stdout",
     "output_type": "stream",
     "text": [
      "Test accuracy is:  0.8506234260794792\n",
      "Mean difference:  -0.14118080800977578\n",
      "Demographic parity is:  0.14118080800977578\n",
      "for value of alpha= 1.0\n"
     ]
    },
    {
     "name": "stderr",
     "output_type": "stream",
     "text": [
      "\r",
      "  1%|          | 1/100 [00:02<04:36,  2.79s/it]"
     ]
    },
    {
     "name": "stdout",
     "output_type": "stream",
     "text": [
      "Epoch:  0 Loss:  [0.5447845001492507]\n"
     ]
    },
    {
     "name": "stderr",
     "output_type": "stream",
     "text": [
      " 51%|█████     | 51/100 [06:21<12:40, 15.53s/it]"
     ]
    },
    {
     "name": "stdout",
     "output_type": "stream",
     "text": [
      "Epoch:  50 Loss:  [0.37936402647110284]\n"
     ]
    },
    {
     "name": "stderr",
     "output_type": "stream",
     "text": [
      "100%|██████████| 100/100 [13:49<00:00,  3.61s/it]\n"
     ]
    },
    {
     "name": "stdout",
     "output_type": "stream",
     "text": [
      "Training Loss:  0.36585264623884534\n",
      "Done Training\n"
     ]
    },
    {
     "name": "stderr",
     "output_type": "stream",
     "text": [
      "\r",
      "  0%|          | 0/100 [00:00<?, ?it/s]"
     ]
    },
    {
     "name": "stdout",
     "output_type": "stream",
     "text": [
      "Test accuracy is:  0.8503777409250046\n",
      "Mean difference:  -0.11244846876430006\n",
      "Demographic parity is:  0.11244846876430006\n",
      "for value of alpha= 5.0\n"
     ]
    },
    {
     "name": "stderr",
     "output_type": "stream",
     "text": [
      "\r",
      "  1%|          | 1/100 [00:02<03:46,  2.29s/it]"
     ]
    },
    {
     "name": "stdout",
     "output_type": "stream",
     "text": [
      "Epoch:  0 Loss:  [0.63346693684994]\n"
     ]
    },
    {
     "name": "stderr",
     "output_type": "stream",
     "text": [
      " 51%|█████     | 51/100 [03:05<03:10,  3.89s/it]"
     ]
    },
    {
     "name": "stdout",
     "output_type": "stream",
     "text": [
      "Epoch:  50 Loss:  [0.551472252341732]\n"
     ]
    },
    {
     "name": "stderr",
     "output_type": "stream",
     "text": [
      "100%|██████████| 100/100 [06:16<00:00,  3.99s/it]\n"
     ]
    },
    {
     "name": "stdout",
     "output_type": "stream",
     "text": [
      "Training Loss:  0.5511587160576226\n",
      "Done Training\n"
     ]
    },
    {
     "name": "stderr",
     "output_type": "stream",
     "text": [
      "\r",
      "  0%|          | 0/100 [00:00<?, ?it/s]"
     ]
    },
    {
     "name": "stdout",
     "output_type": "stream",
     "text": [
      "Test accuracy is:  0.7637737239727289\n",
      "Mean difference:  0.0\n",
      "Demographic parity is:  0.0\n",
      "for value of alpha= 10.0\n"
     ]
    },
    {
     "name": "stderr",
     "output_type": "stream",
     "text": [
      "\r",
      "  1%|          | 1/100 [00:02<03:46,  2.29s/it]"
     ]
    },
    {
     "name": "stdout",
     "output_type": "stream",
     "text": [
      "Epoch:  0 Loss:  [0.7342844362915858]\n"
     ]
    },
    {
     "name": "stderr",
     "output_type": "stream",
     "text": [
      " 51%|█████     | 51/100 [03:04<03:08,  3.84s/it]"
     ]
    },
    {
     "name": "stdout",
     "output_type": "stream",
     "text": [
      "Epoch:  50 Loss:  [0.551364172962461]\n"
     ]
    },
    {
     "name": "stderr",
     "output_type": "stream",
     "text": [
      "100%|██████████| 100/100 [06:13<00:00,  3.97s/it]\n"
     ]
    },
    {
     "name": "stdout",
     "output_type": "stream",
     "text": [
      "Training Loss:  0.5512816981320918\n",
      "Done Training\n",
      "Test accuracy is:  0.7637737239727289\n",
      "Mean difference:  0.0\n",
      "Demographic parity is:  0.0\n"
     ]
    }
   ],
   "source": [
    "# generate a range of values for accuracy anf dp using different alpha values\n",
    "accuracy_range = []\n",
    "dp_range = []\n",
    "for alpha in alpha_range:\n",
    "    #print(\"###############################\")\n",
    "    print(\"for value of alpha=\", alpha)\n",
    "        #\n",
    "        print(\"######################\")\n",
    "    model_alpha = BinaryClassifier(in_features)\n",
    "    optimizer = optim.Adam(model_alpha.parameters())\n",
    "    train_model(model_alpha, criterion, optimizer, train_loader, 100, alpha, True)\n",
    "    acc , dp = test_model(model_alpha, test_loader)\n",
    "    accuracy_range.append(acc)\n",
    "    dp_range.append(dp)"
   ]
  },
  {
   "cell_type": "code",
   "execution_count": 232,
   "metadata": {
    "collapsed": false
   },
   "outputs": [
    {
     "data": {
      "text/plain": [
       "<matplotlib.text.Text at 0x7f31f2b54390>"
      ]
     },
     "execution_count": 232,
     "metadata": {},
     "output_type": "execute_result"
    },
    {
     "data": {
      "image/png": "[encoded data removed]",
      "text/plain": [
       "<matplotlib.figure.Figure at 0x7f31f2bd7f98>"
      ]
     },
     "metadata": {},
     "output_type": "display_data"
    }
   ],
   "source": [
    "# generate a plot of acc and dp against range of alpha values\n",
    "plt.plot(alpha_range, accuracy_range)\n",
    "plt.title(\"A plot of alpha values\")"
   ]
  },
  {
   "cell_type": "code",
   "execution_count": 233,
   "metadata": {
    "collapsed": false
   },
   "outputs": [
    {
     "data": {
      "text/plain": [
       "<matplotlib.text.Text at 0x7f31f2c34940>"
      ]
     },
     "execution_count": 233,
     "metadata": {},
     "output_type": "execute_result"
    },
    {
     "data": {
      "image/png": "[encoded data removed]",
      "text/plain": [
       "<matplotlib.figure.Figure at 0x7f31f2ccc898>"
      ]
     },
     "metadata": {},
     "output_type": "display_data"
    }
   ],
   "source": [
    "plt.plot(alpha_range, dp_range)\n",
    "plt.title(\"A plot of alpha values against dp\")"
   ]
  },
  {
   "cell_type": "code",
   "execution_count": 236,
   "metadata": {
    "collapsed": true
   },
   "outputs": [],
   "source": [
    "alpha_range_2 = np.array([0.00001, 0.00005, 0.0001, 0.0005, 0.001, 0.005, 0.01, 0.05, 0.1, 0.5, 1.0, 5.0, 10.0, 50.0, 100.0])"
   ]
  },
  {
   "cell_type": "code",
   "execution_count": 237,
   "metadata": {
    "collapsed": false,
    "scrolled": true
   },
   "outputs": [
    {
     "name": "stderr",
     "output_type": "stream",
     "text": [
      "\r",
      "  0%|          | 0/100 [00:00<?, ?it/s]"
     ]
    },
    {
     "name": "stdout",
     "output_type": "stream",
     "text": [
      "for value of alpha= 1e-05\n"
     ]
    },
    {
     "name": "stderr",
     "output_type": "stream",
     "text": [
      "\r",
      "  1%|          | 1/100 [00:02<04:25,  2.68s/it]"
     ]
    },
    {
     "name": "stdout",
     "output_type": "stream",
     "text": [
      "Epoch:  0 Loss:  [0.41251616113173667]\n"
     ]
    },
    {
     "name": "stderr",
     "output_type": "stream",
     "text": [
      " 51%|█████     | 51/100 [02:57<02:57,  3.61s/it]"
     ]
    },
    {
     "name": "stdout",
     "output_type": "stream",
     "text": [
      "Epoch:  50 Loss:  [0.26025692035113523]\n"
     ]
    },
    {
     "name": "stderr",
     "output_type": "stream",
     "text": [
      "100%|██████████| 100/100 [05:52<00:00,  3.54s/it]\n"
     ]
    },
    {
     "name": "stdout",
     "output_type": "stream",
     "text": [
      "Training Loss:  0.21950022977538025\n",
      "Done Training\n"
     ]
    },
    {
     "name": "stderr",
     "output_type": "stream",
     "text": [
      "\r",
      "  0%|          | 0/100 [00:00<?, ?it/s]"
     ]
    },
    {
     "name": "stdout",
     "output_type": "stream",
     "text": [
      "Test accuracy is:  0.8419630243842516\n",
      "Mean difference:  -0.16741534099537198\n",
      "Demographic parity is:  0.16741534099537198\n",
      "for value of alpha= 5e-05\n"
     ]
    },
    {
     "name": "stderr",
     "output_type": "stream",
     "text": [
      "\r",
      "  1%|          | 1/100 [00:02<04:49,  2.92s/it]"
     ]
    },
    {
     "name": "stdout",
     "output_type": "stream",
     "text": [
      "Epoch:  0 Loss:  [0.41016783895446]\n"
     ]
    },
    {
     "name": "stderr",
     "output_type": "stream",
     "text": [
      " 51%|█████     | 51/100 [03:04<02:58,  3.64s/it]"
     ]
    },
    {
     "name": "stdout",
     "output_type": "stream",
     "text": [
      "Epoch:  50 Loss:  [0.2641169910132746]\n"
     ]
    },
    {
     "name": "stderr",
     "output_type": "stream",
     "text": [
      "100%|██████████| 100/100 [05:59<00:00,  3.72s/it]\n"
     ]
    },
    {
     "name": "stdout",
     "output_type": "stream",
     "text": [
      "Training Loss:  0.22881449065913284\n",
      "Done Training\n"
     ]
    },
    {
     "name": "stderr",
     "output_type": "stream",
     "text": [
      "\r",
      "  0%|          | 0/100 [00:00<?, ?it/s]"
     ]
    },
    {
     "name": "stdout",
     "output_type": "stream",
     "text": [
      "Test accuracy is:  0.8334254652662613\n",
      "Mean difference:  -0.20165205701991742\n",
      "Demographic parity is:  0.20165205701991742\n",
      "for value of alpha= 0.0001\n"
     ]
    },
    {
     "name": "stderr",
     "output_type": "stream",
     "text": [
      "\r",
      "  1%|          | 1/100 [00:03<05:20,  3.23s/it]"
     ]
    },
    {
     "name": "stdout",
     "output_type": "stream",
     "text": [
      "Epoch:  0 Loss:  [0.40309228381903783]\n"
     ]
    },
    {
     "name": "stderr",
     "output_type": "stream",
     "text": [
      " 51%|█████     | 51/100 [03:06<02:59,  3.67s/it]"
     ]
    },
    {
     "name": "stdout",
     "output_type": "stream",
     "text": [
      "Epoch:  50 Loss:  [0.265604945190679]\n"
     ]
    },
    {
     "name": "stderr",
     "output_type": "stream",
     "text": [
      "100%|██████████| 100/100 [06:07<00:00,  3.74s/it]\n"
     ]
    },
    {
     "name": "stdout",
     "output_type": "stream",
     "text": [
      "Training Loss:  0.22154422014432745\n",
      "Done Training\n"
     ]
    },
    {
     "name": "stderr",
     "output_type": "stream",
     "text": [
      "\r",
      "  0%|          | 0/100 [00:00<?, ?it/s]"
     ]
    },
    {
     "name": "stdout",
     "output_type": "stream",
     "text": [
      "Test accuracy is:  0.8467538848965052\n",
      "Mean difference:  -0.1584195287204151\n",
      "Demographic parity is:  0.1584195287204151\n",
      "for value of alpha= 0.0005\n"
     ]
    },
    {
     "name": "stderr",
     "output_type": "stream",
     "text": [
      "\r",
      "  1%|          | 1/100 [00:03<05:10,  3.14s/it]"
     ]
    },
    {
     "name": "stdout",
     "output_type": "stream",
     "text": [
      "Epoch:  0 Loss:  [0.43415773555214043]\n"
     ]
    },
    {
     "name": "stderr",
     "output_type": "stream",
     "text": [
      " 51%|█████     | 51/100 [03:03<02:49,  3.46s/it]"
     ]
    },
    {
     "name": "stdout",
     "output_type": "stream",
     "text": [
      "Epoch:  50 Loss:  [0.2619194126419107]\n"
     ]
    },
    {
     "name": "stderr",
     "output_type": "stream",
     "text": [
      "100%|██████████| 100/100 [05:59<00:00,  3.81s/it]\n"
     ]
    },
    {
     "name": "stdout",
     "output_type": "stream",
     "text": [
      "Training Loss:  0.21965005697201942\n",
      "Done Training\n"
     ]
    },
    {
     "name": "stderr",
     "output_type": "stream",
     "text": [
      "\r",
      "  0%|          | 0/100 [00:00<?, ?it/s]"
     ]
    },
    {
     "name": "stdout",
     "output_type": "stream",
     "text": [
      "Test accuracy is:  0.8433142927338616\n",
      "Mean difference:  -0.18428237435550923\n",
      "Demographic parity is:  0.18428237435550923\n",
      "for value of alpha= 0.001\n"
     ]
    },
    {
     "name": "stderr",
     "output_type": "stream",
     "text": [
      "\r",
      "  1%|          | 1/100 [00:03<05:18,  3.21s/it]"
     ]
    },
    {
     "name": "stdout",
     "output_type": "stream",
     "text": [
      "Epoch:  0 Loss:  [0.4346711758090225]\n"
     ]
    },
    {
     "name": "stderr",
     "output_type": "stream",
     "text": [
      " 51%|█████     | 51/100 [03:13<03:12,  3.94s/it]"
     ]
    },
    {
     "name": "stdout",
     "output_type": "stream",
     "text": [
      "Epoch:  50 Loss:  [0.25861404507456215]\n"
     ]
    },
    {
     "name": "stderr",
     "output_type": "stream",
     "text": [
      "100%|██████████| 100/100 [06:14<00:00,  3.58s/it]\n"
     ]
    },
    {
     "name": "stdout",
     "output_type": "stream",
     "text": [
      "Training Loss:  0.22089392214602543\n",
      "Done Training\n"
     ]
    },
    {
     "name": "stderr",
     "output_type": "stream",
     "text": [
      "\r",
      "  0%|          | 0/100 [00:00<?, ?it/s]"
     ]
    },
    {
     "name": "stdout",
     "output_type": "stream",
     "text": [
      "Test accuracy is:  0.8414716540753026\n",
      "Mean difference:  -0.169149287454864\n",
      "Demographic parity is:  0.169149287454864\n",
      "for value of alpha= 0.005\n"
     ]
    },
    {
     "name": "stderr",
     "output_type": "stream",
     "text": [
      "\r",
      "  1%|          | 1/100 [00:03<05:07,  3.10s/it]"
     ]
    },
    {
     "name": "stdout",
     "output_type": "stream",
     "text": [
      "Epoch:  0 Loss:  [0.42324476501857544]\n"
     ]
    },
    {
     "name": "stderr",
     "output_type": "stream",
     "text": [
      " 51%|█████     | 51/100 [03:13<03:07,  3.82s/it]"
     ]
    },
    {
     "name": "stdout",
     "output_type": "stream",
     "text": [
      "Epoch:  50 Loss:  [0.26370460037180377]\n"
     ]
    },
    {
     "name": "stderr",
     "output_type": "stream",
     "text": [
      "100%|██████████| 100/100 [06:28<00:00,  4.01s/it]\n"
     ]
    },
    {
     "name": "stdout",
     "output_type": "stream",
     "text": [
      "Training Loss:  0.22138042507943095\n",
      "Done Training\n"
     ]
    },
    {
     "name": "stderr",
     "output_type": "stream",
     "text": [
      "\r",
      "  0%|          | 0/100 [00:00<?, ?it/s]"
     ]
    },
    {
     "name": "stdout",
     "output_type": "stream",
     "text": [
      "Test accuracy is:  0.8402432283029297\n",
      "Mean difference:  -0.19347274411664886\n",
      "Demographic parity is:  0.19347274411664886\n",
      "for value of alpha= 0.01\n"
     ]
    },
    {
     "name": "stderr",
     "output_type": "stream",
     "text": [
      "\r",
      "  1%|          | 1/100 [00:03<05:14,  3.18s/it]"
     ]
    },
    {
     "name": "stdout",
     "output_type": "stream",
     "text": [
      "Epoch:  0 Loss:  [0.40595465865380775]\n"
     ]
    },
    {
     "name": "stderr",
     "output_type": "stream",
     "text": [
      " 51%|█████     | 51/100 [03:15<03:03,  3.75s/it]"
     ]
    },
    {
     "name": "stdout",
     "output_type": "stream",
     "text": [
      "Epoch:  50 Loss:  [0.2616065801249861]\n"
     ]
    },
    {
     "name": "stderr",
     "output_type": "stream",
     "text": [
      "100%|██████████| 100/100 [06:19<00:00,  3.95s/it]\n"
     ]
    },
    {
     "name": "stdout",
     "output_type": "stream",
     "text": [
      "Training Loss:  0.22375038118913945\n",
      "Done Training\n"
     ]
    },
    {
     "name": "stderr",
     "output_type": "stream",
     "text": [
      "\r",
      "  0%|          | 0/100 [00:00<?, ?it/s]"
     ]
    },
    {
     "name": "stdout",
     "output_type": "stream",
     "text": [
      "Test accuracy is:  0.8458939868558443\n",
      "Mean difference:  -0.18234775545479467\n",
      "Demographic parity is:  0.18234775545479467\n",
      "for value of alpha= 0.05\n"
     ]
    },
    {
     "name": "stderr",
     "output_type": "stream",
     "text": [
      "\r",
      "  1%|          | 1/100 [00:03<04:59,  3.03s/it]"
     ]
    },
    {
     "name": "stdout",
     "output_type": "stream",
     "text": [
      "Epoch:  0 Loss:  [0.46279928556169114]\n"
     ]
    },
    {
     "name": "stderr",
     "output_type": "stream",
     "text": [
      " 51%|█████     | 51/100 [03:08<03:13,  3.96s/it]"
     ]
    },
    {
     "name": "stdout",
     "output_type": "stream",
     "text": [
      "Epoch:  50 Loss:  [0.2668958940544349]\n"
     ]
    },
    {
     "name": "stderr",
     "output_type": "stream",
     "text": [
      "100%|██████████| 100/100 [06:14<00:00,  3.67s/it]\n"
     ]
    },
    {
     "name": "stdout",
     "output_type": "stream",
     "text": [
      "Training Loss:  0.2216097005136088\n",
      "Done Training\n"
     ]
    },
    {
     "name": "stderr",
     "output_type": "stream",
     "text": [
      "\r",
      "  0%|          | 0/100 [00:00<?, ?it/s]"
     ]
    },
    {
     "name": "stdout",
     "output_type": "stream",
     "text": [
      "Test accuracy is:  0.842577237270438\n",
      "Mean difference:  -0.17708476652592076\n",
      "Demographic parity is:  0.17708476652592076\n",
      "for value of alpha= 0.1\n"
     ]
    },
    {
     "name": "stderr",
     "output_type": "stream",
     "text": [
      "\r",
      "  1%|          | 1/100 [00:03<05:03,  3.07s/it]"
     ]
    },
    {
     "name": "stdout",
     "output_type": "stream",
     "text": [
      "Epoch:  0 Loss:  [0.45080636066856056]\n"
     ]
    },
    {
     "name": "stderr",
     "output_type": "stream",
     "text": [
      " 51%|█████     | 51/100 [03:02<02:50,  3.48s/it]"
     ]
    },
    {
     "name": "stdout",
     "output_type": "stream",
     "text": [
      "Epoch:  50 Loss:  [0.28077607567672574]\n"
     ]
    },
    {
     "name": "stderr",
     "output_type": "stream",
     "text": [
      "100%|██████████| 100/100 [05:53<00:00,  3.44s/it]\n"
     ]
    },
    {
     "name": "stdout",
     "output_type": "stream",
     "text": [
      "Training Loss:  0.24162815796106527\n",
      "Done Training\n"
     ]
    },
    {
     "name": "stderr",
     "output_type": "stream",
     "text": [
      "\r",
      "  0%|          | 0/100 [00:00<?, ?it/s]"
     ]
    },
    {
     "name": "stdout",
     "output_type": "stream",
     "text": [
      "Test accuracy is:  0.8384620109329893\n",
      "Mean difference:  -0.17607187518153772\n",
      "Demographic parity is:  0.17607187518153772\n",
      "for value of alpha= 0.5\n"
     ]
    },
    {
     "name": "stderr",
     "output_type": "stream",
     "text": [
      "\r",
      "  1%|          | 1/100 [00:02<04:11,  2.54s/it]"
     ]
    },
    {
     "name": "stdout",
     "output_type": "stream",
     "text": [
      "Epoch:  0 Loss:  [0.4898282641813285]\n"
     ]
    },
    {
     "name": "stderr",
     "output_type": "stream",
     "text": [
      " 51%|█████     | 51/100 [02:53<02:57,  3.62s/it]"
     ]
    },
    {
     "name": "stdout",
     "output_type": "stream",
     "text": [
      "Epoch:  50 Loss:  [0.3349955350445251]\n"
     ]
    },
    {
     "name": "stderr",
     "output_type": "stream",
     "text": [
      "100%|██████████| 100/100 [06:00<00:00,  3.94s/it]\n"
     ]
    },
    {
     "name": "stdout",
     "output_type": "stream",
     "text": [
      "Training Loss:  0.3100681721712004\n",
      "Done Training\n"
     ]
    },
    {
     "name": "stderr",
     "output_type": "stream",
     "text": [
      "\r",
      "  0%|          | 0/100 [00:00<?, ?it/s]"
     ]
    },
    {
     "name": "stdout",
     "output_type": "stream",
     "text": [
      "Test accuracy is:  0.8511762176770469\n",
      "Mean difference:  -0.15997665106333972\n",
      "Demographic parity is:  0.15997665106333972\n",
      "for value of alpha= 1.0\n"
     ]
    },
    {
     "name": "stderr",
     "output_type": "stream",
     "text": [
      "\r",
      "  1%|          | 1/100 [00:02<04:21,  2.65s/it]"
     ]
    },
    {
     "name": "stdout",
     "output_type": "stream",
     "text": [
      "Epoch:  0 Loss:  [0.5388917811383107]\n"
     ]
    },
    {
     "name": "stderr",
     "output_type": "stream",
     "text": [
      " 51%|█████     | 51/100 [03:01<03:02,  3.72s/it]"
     ]
    },
    {
     "name": "stdout",
     "output_type": "stream",
     "text": [
      "Epoch:  50 Loss:  [0.37901458720903736]\n"
     ]
    },
    {
     "name": "stderr",
     "output_type": "stream",
     "text": [
      "100%|██████████| 100/100 [06:11<00:00,  3.96s/it]\n"
     ]
    },
    {
     "name": "stdout",
     "output_type": "stream",
     "text": [
      "Training Loss:  0.3616548409454216\n",
      "Done Training\n"
     ]
    },
    {
     "name": "stderr",
     "output_type": "stream",
     "text": [
      "\r",
      "  0%|          | 0/100 [00:00<?, ?it/s]"
     ]
    },
    {
     "name": "stdout",
     "output_type": "stream",
     "text": [
      "Test accuracy is:  0.8487193661323015\n",
      "Mean difference:  -0.11210062973845317\n",
      "Demographic parity is:  0.11210062973845317\n",
      "for value of alpha= 5.0\n"
     ]
    },
    {
     "name": "stderr",
     "output_type": "stream",
     "text": [
      "\r",
      "  1%|          | 1/100 [00:02<04:29,  2.72s/it]"
     ]
    },
    {
     "name": "stdout",
     "output_type": "stream",
     "text": [
      "Epoch:  0 Loss:  [0.6308879825934957]\n"
     ]
    },
    {
     "name": "stderr",
     "output_type": "stream",
     "text": [
      " 51%|█████     | 51/100 [03:29<03:35,  4.39s/it]"
     ]
    },
    {
     "name": "stdout",
     "output_type": "stream",
     "text": [
      "Epoch:  50 Loss:  [0.5511051146463708]\n"
     ]
    },
    {
     "name": "stderr",
     "output_type": "stream",
     "text": [
      "100%|██████████| 100/100 [07:09<00:00,  4.44s/it]\n"
     ]
    },
    {
     "name": "stdout",
     "output_type": "stream",
     "text": [
      "Training Loss:  0.5513233073985437\n",
      "Done Training\n"
     ]
    },
    {
     "name": "stderr",
     "output_type": "stream",
     "text": [
      "\r",
      "  0%|          | 0/100 [00:00<?, ?it/s]"
     ]
    },
    {
     "name": "stdout",
     "output_type": "stream",
     "text": [
      "Test accuracy is:  0.7637737239727289\n",
      "Mean difference:  0.0\n",
      "Demographic parity is:  0.0\n",
      "for value of alpha= 10.0\n"
     ]
    },
    {
     "name": "stderr",
     "output_type": "stream",
     "text": [
      "\r",
      "  1%|          | 1/100 [00:02<04:20,  2.63s/it]"
     ]
    },
    {
     "name": "stdout",
     "output_type": "stream",
     "text": [
      "Epoch:  0 Loss:  [0.7392801638189326]\n"
     ]
    },
    {
     "name": "stderr",
     "output_type": "stream",
     "text": [
      " 51%|█████     | 51/100 [03:29<03:36,  4.41s/it]"
     ]
    },
    {
     "name": "stdout",
     "output_type": "stream",
     "text": [
      "Epoch:  50 Loss:  [0.5513607442336892]\n"
     ]
    },
    {
     "name": "stderr",
     "output_type": "stream",
     "text": [
      "100%|██████████| 100/100 [07:01<00:00,  4.37s/it]\n"
     ]
    },
    {
     "name": "stdout",
     "output_type": "stream",
     "text": [
      "Training Loss:  0.5512641205446009\n",
      "Done Training\n"
     ]
    },
    {
     "name": "stderr",
     "output_type": "stream",
     "text": [
      "\r",
      "  0%|          | 0/100 [00:00<?, ?it/s]"
     ]
    },
    {
     "name": "stdout",
     "output_type": "stream",
     "text": [
      "Test accuracy is:  0.7637737239727289\n",
      "Mean difference:  0.0\n",
      "Demographic parity is:  0.0\n",
      "for value of alpha= 50.0\n"
     ]
    },
    {
     "name": "stderr",
     "output_type": "stream",
     "text": [
      "\r",
      "  1%|          | 1/100 [00:02<04:31,  2.74s/it]"
     ]
    },
    {
     "name": "stdout",
     "output_type": "stream",
     "text": [
      "Epoch:  0 Loss:  [1.0714792122891714]\n"
     ]
    },
    {
     "name": "stderr",
     "output_type": "stream",
     "text": [
      " 51%|█████     | 51/100 [03:26<03:31,  4.32s/it]"
     ]
    },
    {
     "name": "stdout",
     "output_type": "stream",
     "text": [
      "Epoch:  50 Loss:  [0.5513939863194234]\n"
     ]
    },
    {
     "name": "stderr",
     "output_type": "stream",
     "text": [
      "100%|██████████| 100/100 [06:58<00:00,  4.49s/it]\n"
     ]
    },
    {
     "name": "stdout",
     "output_type": "stream",
     "text": [
      "Training Loss:  0.5512483951255447\n",
      "Done Training\n"
     ]
    },
    {
     "name": "stderr",
     "output_type": "stream",
     "text": [
      "\r",
      "  0%|          | 0/100 [00:00<?, ?it/s]"
     ]
    },
    {
     "name": "stdout",
     "output_type": "stream",
     "text": [
      "Test accuracy is:  0.7637737239727289\n",
      "Mean difference:  0.0\n",
      "Demographic parity is:  0.0\n",
      "for value of alpha= 100.0\n"
     ]
    },
    {
     "name": "stderr",
     "output_type": "stream",
     "text": [
      "\r",
      "  1%|          | 1/100 [00:02<04:34,  2.77s/it]"
     ]
    },
    {
     "name": "stdout",
     "output_type": "stream",
     "text": [
      "Epoch:  0 Loss:  [1.494412493205641]\n"
     ]
    },
    {
     "name": "stderr",
     "output_type": "stream",
     "text": [
      " 51%|█████     | 51/100 [03:33<03:28,  4.25s/it]"
     ]
    },
    {
     "name": "stdout",
     "output_type": "stream",
     "text": [
      "Epoch:  50 Loss:  [0.5513008489409896]\n"
     ]
    },
    {
     "name": "stderr",
     "output_type": "stream",
     "text": [
      "100%|██████████| 100/100 [07:02<00:00,  4.22s/it]\n"
     ]
    },
    {
     "name": "stdout",
     "output_type": "stream",
     "text": [
      "Training Loss:  0.5512331677927098\n",
      "Done Training\n",
      "Test accuracy is:  0.7637737239727289\n",
      "Mean difference:  0.0\n",
      "Demographic parity is:  0.0\n"
     ]
    }
   ],
   "source": [
    "# generate a range of values for accuracy anf dp using different alpha values\n",
    "accuracy_range_2 = []\n",
    "dp_range_2 = []\n",
    "for alpha in alpha_range_2:\n",
    "    #print(\"###############################\")\n",
    "    print(\"for value of alpha=\", alpha)\n",
    "    #print(\"###############################\")\n",
    "    model_alpha = BinaryClassifier(in_features)\n",
    "    \n",
    "    optimizer = optim.Adam(model_alpha.parameters())\n",
    "    train_model(model_alpha, criterion, optimizer, train_loader, 100, alpha, True)\n",
    "    acc , dp = test_model(model_alpha, test_loader)\n",
    "    accuracy_range_2.append(acc)\n",
    "    dp_range_2.append(dp)"
   ]
  },
  {
   "cell_type": "code",
   "execution_count": 238,
   "metadata": {
    "collapsed": false
   },
   "outputs": [
    {
     "data": {
      "text/plain": [
       "<matplotlib.text.Text at 0x7f31f34e9f98>"
      ]
     },
     "execution_count": 238,
     "metadata": {},
     "output_type": "execute_result"
    },
    {
     "data": {
      "image/png": "[encoded data removed]",
      "text/plain": [
       "<matplotlib.figure.Figure at 0x7f31f2c61128>"
      ]
     },
     "metadata": {},
     "output_type": "display_data"
    }
   ],
   "source": [
    "# generate a plot of acc and dp against range of alpha values\n",
    "plt.plot(alpha_range_2, accuracy_range_2)\n",
    "plt.title(\"A plot of alpha values against accuracy\")"
   ]
  },
  {
   "cell_type": "code",
   "execution_count": 239,
   "metadata": {
    "collapsed": false
   },
   "outputs": [
    {
     "data": {
      "text/plain": [
       "<matplotlib.text.Text at 0x7f31f2cdfcc0>"
      ]
     },
     "execution_count": 239,
     "metadata": {},
     "output_type": "execute_result"
    },
    {
     "data": {
      "image/png": "[encoded data removed]",
      "text/plain": [
       "<matplotlib.figure.Figure at 0x7f32205c1400>"
      ]
     },
     "metadata": {},
     "output_type": "display_data"
    }
   ],
   "source": [
    "plt.plot(alpha_range_2, dp_range_2)\n",
    "plt.title(\"A plot of alpha values against dp\")"
   ]
  },
  {
   "cell_type": "code",
   "execution_count": null,
   "metadata": {
    "collapsed": true
   },
   "outputs": [],
   "source": []
  }
 ],
 "metadata": {
  "kernelspec": {
   "display_name": "Python 3",
   "language": "python",
   "name": "python3"
  },
  "language_info": {
   "codemirror_mode": {
    "name": "ipython",
    "version": 3
   },
   "file_extension": ".py",
   "mimetype": "text/x-python",
   "name": "python",
   "nbconvert_exporter": "python",
   "pygments_lexer": "ipython3",
   "version": "3.5.3"
  }
 },
 "nbformat": 4,
 "nbformat_minor": 2
}
